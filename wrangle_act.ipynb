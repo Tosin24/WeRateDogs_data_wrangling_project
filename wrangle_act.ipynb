{
 "cells": [
  {
   "cell_type": "markdown",
   "metadata": {},
   "source": [
    "## Import Libraries"
   ]
  },
  {
   "cell_type": "code",
   "execution_count": 2,
   "metadata": {},
   "outputs": [],
   "source": [
    "# Import libraries\n",
    "import pandas as pd\n",
    "import numpy as np\n",
    "import requests\n",
    "import tweepy\n",
    "import json\n",
    "import matplotlib.pyplot as plt\n",
    "% matplotlib inline"
   ]
  },
  {
   "cell_type": "markdown",
   "metadata": {},
   "source": [
    "## Step 1: Gathering Data"
   ]
  },
  {
   "cell_type": "code",
   "execution_count": 3,
   "metadata": {},
   "outputs": [],
   "source": [
    "# Read twitter-archive_enhanced file into pandas\n",
    "tweet_archive_df = pd.read_csv('twitter-archive-enhanced.csv')"
   ]
  },
  {
   "cell_type": "code",
   "execution_count": 4,
   "metadata": {},
   "outputs": [
    {
     "data": {
      "text/plain": [
       "335079"
      ]
     },
     "execution_count": 4,
     "metadata": {},
     "output_type": "execute_result"
    }
   ],
   "source": [
    "# Download image-prediction files with request function\n",
    "url = 'https://d17h27t6h515a5.cloudfront.net/topher/2017/August/599fd2ad_image-predictions/image-predictions.tsv'\n",
    "r = requests.get(url)\n",
    "\n",
    "open('image_predictions.tsv', mode='wb').write(r.content)"
   ]
  },
  {
   "cell_type": "code",
   "execution_count": 5,
   "metadata": {},
   "outputs": [],
   "source": [
    "# Read image predictions file into pandas\n",
    "image_predictions = pd.read_csv('image_predictions.tsv', sep='\\t')"
   ]
  },
  {
   "cell_type": "code",
   "execution_count": 5,
   "metadata": {
    "scrolled": false
   },
   "outputs": [
    {
     "name": "stdout",
     "output_type": "stream",
     "text": [
      "Error: Tweet Unavailable\n",
      "Error: Tweet Unavailable\n",
      "Error: Tweet Unavailable\n",
      "Error: Tweet Unavailable\n",
      "Error: Tweet Unavailable\n",
      "Error: Tweet Unavailable\n",
      "Error: Tweet Unavailable\n",
      "Error: Tweet Unavailable\n",
      "Error: Tweet Unavailable\n",
      "Error: Tweet Unavailable\n",
      "Error: Tweet Unavailable\n",
      "Error: Tweet Unavailable\n",
      "Error: Tweet Unavailable\n",
      "Error: Tweet Unavailable\n",
      "Rate limit reached. Sleeping for: 642\n",
      "Error: Tweet Unavailable\n",
      "Error: Tweet Unavailable\n",
      "Error: Tweet Unavailable\n",
      "Error: Tweet Unavailable\n",
      "Error: Tweet Unavailable\n",
      "Error: Tweet Unavailable\n",
      "Error: Tweet Unavailable\n",
      "Error: Tweet Unavailable\n",
      "Error: Tweet Unavailable\n",
      "Error: Tweet Unavailable\n",
      "Rate limit reached. Sleeping for: 723\n",
      "Error: Tweet Unavailable\n",
      "Rate limit reached. Sleeping for: 725\n"
     ]
    }
   ],
   "source": [
    "# Query the Twitter API for each tweet's JSON data using Python's Tweepy library\n",
    "consumer_key = 'INVISIBLE'\n",
    "consumer_secret = 'INVISIBLE'\n",
    "access_token = 'INVISIBLE'\n",
    "access_secret = 'INVISIBLE'\n",
    "\n",
    "auth = tweepy.OAuthHandler(consumer_key, consumer_secret)\n",
    "auth.set_access_token(access_token, access_secret)\n",
    "\n",
    "api = tweepy.API(auth, wait_on_rate_limit=True, wait_on_rate_limit_notify=True)\n",
    "\n",
    "tweet_ids = tweet_archive_df.tweet_id.values\n",
    "\n",
    "with open('tweet_json.txt', 'w') as results:\n",
    "    for tweet_id in tweet_ids:\n",
    "        try:\n",
    "            tweet = api.get_status(tweet_id, tweet_mode='extended')\n",
    "            json.dump(tweet._json, results)\n",
    "            results.write('\\n')\n",
    "        except tweepy.TweepError:\n",
    "            print('Error: Tweet Unavailable')"
   ]
  },
  {
   "cell_type": "code",
   "execution_count": 6,
   "metadata": {},
   "outputs": [],
   "source": [
    "# changing json data to pandas dataframe\n",
    "\n",
    "tweets_data = []\n",
    "with open('tweet_json.txt') as json_file:\n",
    "    for line in json_file:\n",
    "        \n",
    "        dict_tweets = {}\n",
    "        json_tweets = json.loads(line)\n",
    "        \n",
    "        tweets_data.append({'tweet_id': json_tweets['id'],\n",
    "                        'retweet_count': json_tweets['retweet_count'],\n",
    "                        'favorite_count': json_tweets['favorite_count']\n",
    "                           })"
   ]
  },
  {
   "cell_type": "code",
   "execution_count": 7,
   "metadata": {},
   "outputs": [],
   "source": [
    "# Save dataframe to tweet_count\n",
    "tweet_count = pd.DataFrame(tweets_data, columns = ['tweet_id', 'retweet_count', 'favorite_count'])\n"
   ]
  },
  {
   "cell_type": "markdown",
   "metadata": {},
   "source": [
    "## Step 2: Assessing Data"
   ]
  },
  {
   "cell_type": "markdown",
   "metadata": {},
   "source": [
    "### 1) Twitter Archives Data"
   ]
  },
  {
   "cell_type": "code",
   "execution_count": 8,
   "metadata": {
    "scrolled": true
   },
   "outputs": [
    {
     "data": {
      "text/plain": [
       "(2356, 17)"
      ]
     },
     "execution_count": 8,
     "metadata": {},
     "output_type": "execute_result"
    }
   ],
   "source": [
    "# View shape of tweet_archive dataframe\n",
    "tweet_archive_df.shape"
   ]
  },
  {
   "cell_type": "code",
   "execution_count": 9,
   "metadata": {
    "scrolled": true
   },
   "outputs": [
    {
     "data": {
      "text/html": [
       "<div>\n",
       "<style scoped>\n",
       "    .dataframe tbody tr th:only-of-type {\n",
       "        vertical-align: middle;\n",
       "    }\n",
       "\n",
       "    .dataframe tbody tr th {\n",
       "        vertical-align: top;\n",
       "    }\n",
       "\n",
       "    .dataframe thead th {\n",
       "        text-align: right;\n",
       "    }\n",
       "</style>\n",
       "<table border=\"1\" class=\"dataframe\">\n",
       "  <thead>\n",
       "    <tr style=\"text-align: right;\">\n",
       "      <th></th>\n",
       "      <th>tweet_id</th>\n",
       "      <th>in_reply_to_status_id</th>\n",
       "      <th>in_reply_to_user_id</th>\n",
       "      <th>timestamp</th>\n",
       "      <th>source</th>\n",
       "      <th>text</th>\n",
       "      <th>retweeted_status_id</th>\n",
       "      <th>retweeted_status_user_id</th>\n",
       "      <th>retweeted_status_timestamp</th>\n",
       "      <th>expanded_urls</th>\n",
       "      <th>rating_numerator</th>\n",
       "      <th>rating_denominator</th>\n",
       "      <th>name</th>\n",
       "      <th>doggo</th>\n",
       "      <th>floofer</th>\n",
       "      <th>pupper</th>\n",
       "      <th>puppo</th>\n",
       "    </tr>\n",
       "  </thead>\n",
       "  <tbody>\n",
       "    <tr>\n",
       "      <th>0</th>\n",
       "      <td>892420643555336193</td>\n",
       "      <td>NaN</td>\n",
       "      <td>NaN</td>\n",
       "      <td>2017-08-01 16:23:56 +0000</td>\n",
       "      <td>&lt;a href=\"http://twitter.com/download/iphone\" r...</td>\n",
       "      <td>This is Phineas. He's a mystical boy. Only eve...</td>\n",
       "      <td>NaN</td>\n",
       "      <td>NaN</td>\n",
       "      <td>NaN</td>\n",
       "      <td>https://twitter.com/dog_rates/status/892420643...</td>\n",
       "      <td>13</td>\n",
       "      <td>10</td>\n",
       "      <td>Phineas</td>\n",
       "      <td>None</td>\n",
       "      <td>None</td>\n",
       "      <td>None</td>\n",
       "      <td>None</td>\n",
       "    </tr>\n",
       "    <tr>\n",
       "      <th>1</th>\n",
       "      <td>892177421306343426</td>\n",
       "      <td>NaN</td>\n",
       "      <td>NaN</td>\n",
       "      <td>2017-08-01 00:17:27 +0000</td>\n",
       "      <td>&lt;a href=\"http://twitter.com/download/iphone\" r...</td>\n",
       "      <td>This is Tilly. She's just checking pup on you....</td>\n",
       "      <td>NaN</td>\n",
       "      <td>NaN</td>\n",
       "      <td>NaN</td>\n",
       "      <td>https://twitter.com/dog_rates/status/892177421...</td>\n",
       "      <td>13</td>\n",
       "      <td>10</td>\n",
       "      <td>Tilly</td>\n",
       "      <td>None</td>\n",
       "      <td>None</td>\n",
       "      <td>None</td>\n",
       "      <td>None</td>\n",
       "    </tr>\n",
       "    <tr>\n",
       "      <th>2</th>\n",
       "      <td>891815181378084864</td>\n",
       "      <td>NaN</td>\n",
       "      <td>NaN</td>\n",
       "      <td>2017-07-31 00:18:03 +0000</td>\n",
       "      <td>&lt;a href=\"http://twitter.com/download/iphone\" r...</td>\n",
       "      <td>This is Archie. He is a rare Norwegian Pouncin...</td>\n",
       "      <td>NaN</td>\n",
       "      <td>NaN</td>\n",
       "      <td>NaN</td>\n",
       "      <td>https://twitter.com/dog_rates/status/891815181...</td>\n",
       "      <td>12</td>\n",
       "      <td>10</td>\n",
       "      <td>Archie</td>\n",
       "      <td>None</td>\n",
       "      <td>None</td>\n",
       "      <td>None</td>\n",
       "      <td>None</td>\n",
       "    </tr>\n",
       "    <tr>\n",
       "      <th>3</th>\n",
       "      <td>891689557279858688</td>\n",
       "      <td>NaN</td>\n",
       "      <td>NaN</td>\n",
       "      <td>2017-07-30 15:58:51 +0000</td>\n",
       "      <td>&lt;a href=\"http://twitter.com/download/iphone\" r...</td>\n",
       "      <td>This is Darla. She commenced a snooze mid meal...</td>\n",
       "      <td>NaN</td>\n",
       "      <td>NaN</td>\n",
       "      <td>NaN</td>\n",
       "      <td>https://twitter.com/dog_rates/status/891689557...</td>\n",
       "      <td>13</td>\n",
       "      <td>10</td>\n",
       "      <td>Darla</td>\n",
       "      <td>None</td>\n",
       "      <td>None</td>\n",
       "      <td>None</td>\n",
       "      <td>None</td>\n",
       "    </tr>\n",
       "    <tr>\n",
       "      <th>4</th>\n",
       "      <td>891327558926688256</td>\n",
       "      <td>NaN</td>\n",
       "      <td>NaN</td>\n",
       "      <td>2017-07-29 16:00:24 +0000</td>\n",
       "      <td>&lt;a href=\"http://twitter.com/download/iphone\" r...</td>\n",
       "      <td>This is Franklin. He would like you to stop ca...</td>\n",
       "      <td>NaN</td>\n",
       "      <td>NaN</td>\n",
       "      <td>NaN</td>\n",
       "      <td>https://twitter.com/dog_rates/status/891327558...</td>\n",
       "      <td>12</td>\n",
       "      <td>10</td>\n",
       "      <td>Franklin</td>\n",
       "      <td>None</td>\n",
       "      <td>None</td>\n",
       "      <td>None</td>\n",
       "      <td>None</td>\n",
       "    </tr>\n",
       "  </tbody>\n",
       "</table>\n",
       "</div>"
      ],
      "text/plain": [
       "             tweet_id  in_reply_to_status_id  in_reply_to_user_id  \\\n",
       "0  892420643555336193                    NaN                  NaN   \n",
       "1  892177421306343426                    NaN                  NaN   \n",
       "2  891815181378084864                    NaN                  NaN   \n",
       "3  891689557279858688                    NaN                  NaN   \n",
       "4  891327558926688256                    NaN                  NaN   \n",
       "\n",
       "                   timestamp  \\\n",
       "0  2017-08-01 16:23:56 +0000   \n",
       "1  2017-08-01 00:17:27 +0000   \n",
       "2  2017-07-31 00:18:03 +0000   \n",
       "3  2017-07-30 15:58:51 +0000   \n",
       "4  2017-07-29 16:00:24 +0000   \n",
       "\n",
       "                                              source  \\\n",
       "0  <a href=\"http://twitter.com/download/iphone\" r...   \n",
       "1  <a href=\"http://twitter.com/download/iphone\" r...   \n",
       "2  <a href=\"http://twitter.com/download/iphone\" r...   \n",
       "3  <a href=\"http://twitter.com/download/iphone\" r...   \n",
       "4  <a href=\"http://twitter.com/download/iphone\" r...   \n",
       "\n",
       "                                                text  retweeted_status_id  \\\n",
       "0  This is Phineas. He's a mystical boy. Only eve...                  NaN   \n",
       "1  This is Tilly. She's just checking pup on you....                  NaN   \n",
       "2  This is Archie. He is a rare Norwegian Pouncin...                  NaN   \n",
       "3  This is Darla. She commenced a snooze mid meal...                  NaN   \n",
       "4  This is Franklin. He would like you to stop ca...                  NaN   \n",
       "\n",
       "   retweeted_status_user_id retweeted_status_timestamp  \\\n",
       "0                       NaN                        NaN   \n",
       "1                       NaN                        NaN   \n",
       "2                       NaN                        NaN   \n",
       "3                       NaN                        NaN   \n",
       "4                       NaN                        NaN   \n",
       "\n",
       "                                       expanded_urls  rating_numerator  \\\n",
       "0  https://twitter.com/dog_rates/status/892420643...                13   \n",
       "1  https://twitter.com/dog_rates/status/892177421...                13   \n",
       "2  https://twitter.com/dog_rates/status/891815181...                12   \n",
       "3  https://twitter.com/dog_rates/status/891689557...                13   \n",
       "4  https://twitter.com/dog_rates/status/891327558...                12   \n",
       "\n",
       "   rating_denominator      name doggo floofer pupper puppo  \n",
       "0                  10   Phineas  None    None   None  None  \n",
       "1                  10     Tilly  None    None   None  None  \n",
       "2                  10    Archie  None    None   None  None  \n",
       "3                  10     Darla  None    None   None  None  \n",
       "4                  10  Franklin  None    None   None  None  "
      ]
     },
     "execution_count": 9,
     "metadata": {},
     "output_type": "execute_result"
    }
   ],
   "source": [
    "# View first five rows of tweet_archive dataframe\n",
    "tweet_archive_df.head()"
   ]
  },
  {
   "cell_type": "code",
   "execution_count": 10,
   "metadata": {},
   "outputs": [
    {
     "name": "stdout",
     "output_type": "stream",
     "text": [
      "<class 'pandas.core.frame.DataFrame'>\n",
      "RangeIndex: 2356 entries, 0 to 2355\n",
      "Data columns (total 17 columns):\n",
      "tweet_id                      2356 non-null int64\n",
      "in_reply_to_status_id         78 non-null float64\n",
      "in_reply_to_user_id           78 non-null float64\n",
      "timestamp                     2356 non-null object\n",
      "source                        2356 non-null object\n",
      "text                          2356 non-null object\n",
      "retweeted_status_id           181 non-null float64\n",
      "retweeted_status_user_id      181 non-null float64\n",
      "retweeted_status_timestamp    181 non-null object\n",
      "expanded_urls                 2297 non-null object\n",
      "rating_numerator              2356 non-null int64\n",
      "rating_denominator            2356 non-null int64\n",
      "name                          2356 non-null object\n",
      "doggo                         2356 non-null object\n",
      "floofer                       2356 non-null object\n",
      "pupper                        2356 non-null object\n",
      "puppo                         2356 non-null object\n",
      "dtypes: float64(4), int64(3), object(10)\n",
      "memory usage: 313.0+ KB\n"
     ]
    }
   ],
   "source": [
    "# View properties of tweet_archive dataframe\n",
    "tweet_archive_df.info()"
   ]
  },
  {
   "cell_type": "code",
   "execution_count": 11,
   "metadata": {
    "scrolled": true
   },
   "outputs": [
    {
     "data": {
      "text/plain": [
       "6"
      ]
     },
     "execution_count": 11,
     "metadata": {},
     "output_type": "execute_result"
    }
   ],
   "source": [
    "# View column with null values in tweet_archive dataframe\n",
    "tweet_archive_df.isnull().any().sum()"
   ]
  },
  {
   "cell_type": "code",
   "execution_count": 12,
   "metadata": {},
   "outputs": [
    {
     "data": {
      "text/plain": [
       "tweet_id                         0\n",
       "in_reply_to_status_id         2278\n",
       "in_reply_to_user_id           2278\n",
       "timestamp                        0\n",
       "source                           0\n",
       "text                             0\n",
       "retweeted_status_id           2175\n",
       "retweeted_status_user_id      2175\n",
       "retweeted_status_timestamp    2175\n",
       "expanded_urls                   59\n",
       "rating_numerator                 0\n",
       "rating_denominator               0\n",
       "name                             0\n",
       "doggo                            0\n",
       "floofer                          0\n",
       "pupper                           0\n",
       "puppo                            0\n",
       "dtype: int64"
      ]
     },
     "execution_count": 12,
     "metadata": {},
     "output_type": "execute_result"
    }
   ],
   "source": [
    "# Confirm colums=ns with null values in the tweet_archive dataframe\n",
    "tweet_archive_df.isnull().sum()"
   ]
  },
  {
   "cell_type": "code",
   "execution_count": 13,
   "metadata": {},
   "outputs": [
    {
     "data": {
      "text/plain": [
       "12      558\n",
       "11      464\n",
       "10      461\n",
       "13      351\n",
       "9       158\n",
       "8       102\n",
       "7        55\n",
       "14       54\n",
       "5        37\n",
       "6        32\n",
       "3        19\n",
       "4        17\n",
       "1         9\n",
       "2         9\n",
       "420       2\n",
       "0         2\n",
       "15        2\n",
       "75        2\n",
       "80        1\n",
       "20        1\n",
       "24        1\n",
       "26        1\n",
       "44        1\n",
       "50        1\n",
       "60        1\n",
       "165       1\n",
       "84        1\n",
       "88        1\n",
       "144       1\n",
       "182       1\n",
       "143       1\n",
       "666       1\n",
       "960       1\n",
       "1776      1\n",
       "17        1\n",
       "27        1\n",
       "45        1\n",
       "99        1\n",
       "121       1\n",
       "204       1\n",
       "Name: rating_numerator, dtype: int64"
      ]
     },
     "execution_count": 13,
     "metadata": {},
     "output_type": "execute_result"
    }
   ],
   "source": [
    "# View value counts for the rating_numerator column\n",
    "tweet_archive_df.rating_numerator.value_counts()"
   ]
  },
  {
   "cell_type": "code",
   "execution_count": 14,
   "metadata": {},
   "outputs": [
    {
     "data": {
      "text/plain": [
       "0"
      ]
     },
     "execution_count": 14,
     "metadata": {},
     "output_type": "execute_result"
    }
   ],
   "source": [
    "# Check for duplicates\n",
    "sum(tweet_archive_df.duplicated())"
   ]
  },
  {
   "cell_type": "code",
   "execution_count": 15,
   "metadata": {},
   "outputs": [
    {
     "data": {
      "text/plain": [
       "10     2333\n",
       "11        3\n",
       "50        3\n",
       "80        2\n",
       "20        2\n",
       "2         1\n",
       "16        1\n",
       "40        1\n",
       "70        1\n",
       "15        1\n",
       "90        1\n",
       "110       1\n",
       "120       1\n",
       "130       1\n",
       "150       1\n",
       "170       1\n",
       "7         1\n",
       "0         1\n",
       "Name: rating_denominator, dtype: int64"
      ]
     },
     "execution_count": 15,
     "metadata": {},
     "output_type": "execute_result"
    }
   ],
   "source": [
    "# View value counts for the rating_denominator column\n",
    "tweet_archive_df.rating_denominator.value_counts()"
   ]
  },
  {
   "cell_type": "code",
   "execution_count": 16,
   "metadata": {
    "scrolled": true
   },
   "outputs": [
    {
     "name": "stdout",
     "output_type": "stream",
     "text": [
      "None     2259\n",
      "doggo      97\n",
      "Name: doggo, dtype: int64\n",
      "\n",
      "\n",
      "None       2346\n",
      "floofer      10\n",
      "Name: floofer, dtype: int64\n",
      "\n",
      "\n",
      "None      2099\n",
      "pupper     257\n",
      "Name: pupper, dtype: int64\n",
      "\n",
      "\n",
      "None     2326\n",
      "puppo      30\n",
      "Name: puppo, dtype: int64\n"
     ]
    }
   ],
   "source": [
    "# View value count for the dog lingos\n",
    "print(tweet_archive_df.doggo.value_counts())\n",
    "print('\\n')\n",
    "print(tweet_archive_df.floofer.value_counts())\n",
    "print('\\n')\n",
    "print(tweet_archive_df.pupper.value_counts())\n",
    "print('\\n')\n",
    "print(tweet_archive_df.puppo.value_counts())"
   ]
  },
  {
   "cell_type": "code",
   "execution_count": 17,
   "metadata": {},
   "outputs": [
    {
     "data": {
      "text/plain": [
       "1"
      ]
     },
     "execution_count": 17,
     "metadata": {},
     "output_type": "execute_result"
    }
   ],
   "source": [
    "# Check for rows where dog stage is conflicting\n",
    "len(tweet_archive_df.query('doggo != \"None\" and floofer != \"None\"'))"
   ]
  },
  {
   "cell_type": "code",
   "execution_count": 18,
   "metadata": {},
   "outputs": [
    {
     "data": {
      "text/plain": [
       "12"
      ]
     },
     "execution_count": 18,
     "metadata": {},
     "output_type": "execute_result"
    }
   ],
   "source": [
    "# Check for rows where dog stage is conflicting\n",
    "len(tweet_archive_df.query('doggo != \"None\" and pupper != \"None\"'))"
   ]
  },
  {
   "cell_type": "code",
   "execution_count": 19,
   "metadata": {},
   "outputs": [
    {
     "data": {
      "text/plain": [
       "1"
      ]
     },
     "execution_count": 19,
     "metadata": {},
     "output_type": "execute_result"
    }
   ],
   "source": [
    "# Check for rows where dog stage is conflicting\n",
    "len(tweet_archive_df.query('doggo != \"None\" and puppo != \"None\"'))"
   ]
  },
  {
   "cell_type": "code",
   "execution_count": 20,
   "metadata": {},
   "outputs": [
    {
     "data": {
      "text/plain": [
       "0"
      ]
     },
     "execution_count": 20,
     "metadata": {},
     "output_type": "execute_result"
    }
   ],
   "source": [
    "# Check for rows where dog stage is conflicting\n",
    "len(tweet_archive_df.query('floofer != \"None\" and pupper != \"None\"'))"
   ]
  },
  {
   "cell_type": "code",
   "execution_count": 21,
   "metadata": {},
   "outputs": [
    {
     "data": {
      "text/plain": [
       "0"
      ]
     },
     "execution_count": 21,
     "metadata": {},
     "output_type": "execute_result"
    }
   ],
   "source": [
    "# Check for rows where dog stage is conflicting\n",
    "len(tweet_archive_df.query('floofer != \"None\" and puppo != \"None\"'))"
   ]
  },
  {
   "cell_type": "code",
   "execution_count": 22,
   "metadata": {},
   "outputs": [
    {
     "data": {
      "text/plain": [
       "0"
      ]
     },
     "execution_count": 22,
     "metadata": {},
     "output_type": "execute_result"
    }
   ],
   "source": [
    "# Check for rows where dog stage is conflicting\n",
    "len(tweet_archive_df.query('pupper != \"None\" and puppo != \"None\"'))"
   ]
  },
  {
   "cell_type": "code",
   "execution_count": 23,
   "metadata": {},
   "outputs": [
    {
     "data": {
      "text/plain": [
       "<a href=\"http://twitter.com/download/iphone\" rel=\"nofollow\">Twitter for iPhone</a>     2221\n",
       "<a href=\"http://vine.co\" rel=\"nofollow\">Vine - Make a Scene</a>                          91\n",
       "<a href=\"http://twitter.com\" rel=\"nofollow\">Twitter Web Client</a>                       33\n",
       "<a href=\"https://about.twitter.com/products/tweetdeck\" rel=\"nofollow\">TweetDeck</a>      11\n",
       "Name: source, dtype: int64"
      ]
     },
     "execution_count": 23,
     "metadata": {},
     "output_type": "execute_result"
    }
   ],
   "source": [
    "# Check value counts of the source column\n",
    "tweet_archive_df.source.value_counts()"
   ]
  },
  {
   "cell_type": "code",
   "execution_count": 24,
   "metadata": {},
   "outputs": [
    {
     "data": {
      "text/plain": [
       "Abby             2\n",
       "Ace              1\n",
       "Acro             1\n",
       "Adele            1\n",
       "Aiden            1\n",
       "Aja              1\n",
       "Akumi            1\n",
       "Al               1\n",
       "Albert           2\n",
       "Albus            2\n",
       "Aldrick          1\n",
       "Alejandro        1\n",
       "Alexander        1\n",
       "Alexanderson     1\n",
       "Alf              1\n",
       "Alfie            5\n",
       "Alfy             1\n",
       "Alice            2\n",
       "Amber            1\n",
       "Ambrose          1\n",
       "Amy              1\n",
       "Amélie           1\n",
       "Anakin           2\n",
       "Andru            1\n",
       "Andy             1\n",
       "Angel            1\n",
       "Anna             1\n",
       "Anthony          1\n",
       "Antony           1\n",
       "Apollo           1\n",
       "                ..\n",
       "Ziva             1\n",
       "Zoe              1\n",
       "Zoey             3\n",
       "Zooey            1\n",
       "Zuzu             1\n",
       "a               55\n",
       "actually         2\n",
       "all              1\n",
       "an               7\n",
       "by               1\n",
       "getting          2\n",
       "his              1\n",
       "incredibly       1\n",
       "infuriating      1\n",
       "just             4\n",
       "life             1\n",
       "light            1\n",
       "mad              2\n",
       "my               1\n",
       "not              2\n",
       "officially       1\n",
       "old              1\n",
       "one              4\n",
       "quite            4\n",
       "space            1\n",
       "such             1\n",
       "the              8\n",
       "this             1\n",
       "unacceptable     1\n",
       "very             5\n",
       "Name: name, Length: 957, dtype: int64"
      ]
     },
     "execution_count": 24,
     "metadata": {},
     "output_type": "execute_result"
    }
   ],
   "source": [
    "# Check value counts of the name column\n",
    "tweet_archive_df.name.value_counts().sort_index()"
   ]
  },
  {
   "cell_type": "code",
   "execution_count": 25,
   "metadata": {
    "scrolled": true
   },
   "outputs": [
    {
     "data": {
      "text/plain": [
       "None          745\n",
       "a              55\n",
       "Charlie        12\n",
       "Cooper         11\n",
       "Lucy           11\n",
       "Oliver         11\n",
       "Tucker         10\n",
       "Penny          10\n",
       "Lola           10\n",
       "Winston         9\n",
       "Bo              9\n",
       "Sadie           8\n",
       "the             8\n",
       "Bailey          7\n",
       "Toby            7\n",
       "an              7\n",
       "Daisy           7\n",
       "Buddy           7\n",
       "Scout           6\n",
       "Rusty           6\n",
       "Bella           6\n",
       "Koda            6\n",
       "Stanley         6\n",
       "Oscar           6\n",
       "Jax             6\n",
       "Jack            6\n",
       "Leo             6\n",
       "Milo            6\n",
       "Dave            6\n",
       "Chester         5\n",
       "             ... \n",
       "Chuck           1\n",
       "Florence        1\n",
       "life            1\n",
       "Brandonald      1\n",
       "Ester           1\n",
       "Tater           1\n",
       "Raphael         1\n",
       "Anthony         1\n",
       "Ron             1\n",
       "Ashleigh        1\n",
       "Karma           1\n",
       "Trip            1\n",
       "Bobbay          1\n",
       "Shikha          1\n",
       "Snoopy          1\n",
       "Rueben          1\n",
       "Siba            1\n",
       "Clybe           1\n",
       "Flurpson        1\n",
       "Ambrose         1\n",
       "Roscoe          1\n",
       "Ferg            1\n",
       "Brian           1\n",
       "Clyde           1\n",
       "Burt            1\n",
       "Darla           1\n",
       "Tug             1\n",
       "Marty           1\n",
       "Eevee           1\n",
       "Jameson         1\n",
       "Name: name, Length: 957, dtype: int64"
      ]
     },
     "execution_count": 25,
     "metadata": {},
     "output_type": "execute_result"
    }
   ],
   "source": [
    "# Check value count for the name column\n",
    "tweet_archive_df['name'].value_counts()"
   ]
  },
  {
   "cell_type": "markdown",
   "metadata": {},
   "source": [
    "### 2) Image Predictions Data"
   ]
  },
  {
   "cell_type": "code",
   "execution_count": 26,
   "metadata": {},
   "outputs": [
    {
     "data": {
      "text/plain": [
       "(2075, 12)"
      ]
     },
     "execution_count": 26,
     "metadata": {},
     "output_type": "execute_result"
    }
   ],
   "source": [
    "# View shape of image_predictions data\n",
    "image_predictions.shape"
   ]
  },
  {
   "cell_type": "code",
   "execution_count": 27,
   "metadata": {},
   "outputs": [
    {
     "data": {
      "text/html": [
       "<div>\n",
       "<style scoped>\n",
       "    .dataframe tbody tr th:only-of-type {\n",
       "        vertical-align: middle;\n",
       "    }\n",
       "\n",
       "    .dataframe tbody tr th {\n",
       "        vertical-align: top;\n",
       "    }\n",
       "\n",
       "    .dataframe thead th {\n",
       "        text-align: right;\n",
       "    }\n",
       "</style>\n",
       "<table border=\"1\" class=\"dataframe\">\n",
       "  <thead>\n",
       "    <tr style=\"text-align: right;\">\n",
       "      <th></th>\n",
       "      <th>tweet_id</th>\n",
       "      <th>jpg_url</th>\n",
       "      <th>img_num</th>\n",
       "      <th>p1</th>\n",
       "      <th>p1_conf</th>\n",
       "      <th>p1_dog</th>\n",
       "      <th>p2</th>\n",
       "      <th>p2_conf</th>\n",
       "      <th>p2_dog</th>\n",
       "      <th>p3</th>\n",
       "      <th>p3_conf</th>\n",
       "      <th>p3_dog</th>\n",
       "    </tr>\n",
       "  </thead>\n",
       "  <tbody>\n",
       "    <tr>\n",
       "      <th>0</th>\n",
       "      <td>666020888022790149</td>\n",
       "      <td>https://pbs.twimg.com/media/CT4udn0WwAA0aMy.jpg</td>\n",
       "      <td>1</td>\n",
       "      <td>Welsh_springer_spaniel</td>\n",
       "      <td>0.465074</td>\n",
       "      <td>True</td>\n",
       "      <td>collie</td>\n",
       "      <td>0.156665</td>\n",
       "      <td>True</td>\n",
       "      <td>Shetland_sheepdog</td>\n",
       "      <td>0.061428</td>\n",
       "      <td>True</td>\n",
       "    </tr>\n",
       "    <tr>\n",
       "      <th>1</th>\n",
       "      <td>666029285002620928</td>\n",
       "      <td>https://pbs.twimg.com/media/CT42GRgUYAA5iDo.jpg</td>\n",
       "      <td>1</td>\n",
       "      <td>redbone</td>\n",
       "      <td>0.506826</td>\n",
       "      <td>True</td>\n",
       "      <td>miniature_pinscher</td>\n",
       "      <td>0.074192</td>\n",
       "      <td>True</td>\n",
       "      <td>Rhodesian_ridgeback</td>\n",
       "      <td>0.072010</td>\n",
       "      <td>True</td>\n",
       "    </tr>\n",
       "    <tr>\n",
       "      <th>2</th>\n",
       "      <td>666033412701032449</td>\n",
       "      <td>https://pbs.twimg.com/media/CT4521TWwAEvMyu.jpg</td>\n",
       "      <td>1</td>\n",
       "      <td>German_shepherd</td>\n",
       "      <td>0.596461</td>\n",
       "      <td>True</td>\n",
       "      <td>malinois</td>\n",
       "      <td>0.138584</td>\n",
       "      <td>True</td>\n",
       "      <td>bloodhound</td>\n",
       "      <td>0.116197</td>\n",
       "      <td>True</td>\n",
       "    </tr>\n",
       "    <tr>\n",
       "      <th>3</th>\n",
       "      <td>666044226329800704</td>\n",
       "      <td>https://pbs.twimg.com/media/CT5Dr8HUEAA-lEu.jpg</td>\n",
       "      <td>1</td>\n",
       "      <td>Rhodesian_ridgeback</td>\n",
       "      <td>0.408143</td>\n",
       "      <td>True</td>\n",
       "      <td>redbone</td>\n",
       "      <td>0.360687</td>\n",
       "      <td>True</td>\n",
       "      <td>miniature_pinscher</td>\n",
       "      <td>0.222752</td>\n",
       "      <td>True</td>\n",
       "    </tr>\n",
       "    <tr>\n",
       "      <th>4</th>\n",
       "      <td>666049248165822465</td>\n",
       "      <td>https://pbs.twimg.com/media/CT5IQmsXIAAKY4A.jpg</td>\n",
       "      <td>1</td>\n",
       "      <td>miniature_pinscher</td>\n",
       "      <td>0.560311</td>\n",
       "      <td>True</td>\n",
       "      <td>Rottweiler</td>\n",
       "      <td>0.243682</td>\n",
       "      <td>True</td>\n",
       "      <td>Doberman</td>\n",
       "      <td>0.154629</td>\n",
       "      <td>True</td>\n",
       "    </tr>\n",
       "  </tbody>\n",
       "</table>\n",
       "</div>"
      ],
      "text/plain": [
       "             tweet_id                                          jpg_url  \\\n",
       "0  666020888022790149  https://pbs.twimg.com/media/CT4udn0WwAA0aMy.jpg   \n",
       "1  666029285002620928  https://pbs.twimg.com/media/CT42GRgUYAA5iDo.jpg   \n",
       "2  666033412701032449  https://pbs.twimg.com/media/CT4521TWwAEvMyu.jpg   \n",
       "3  666044226329800704  https://pbs.twimg.com/media/CT5Dr8HUEAA-lEu.jpg   \n",
       "4  666049248165822465  https://pbs.twimg.com/media/CT5IQmsXIAAKY4A.jpg   \n",
       "\n",
       "   img_num                      p1   p1_conf  p1_dog                  p2  \\\n",
       "0        1  Welsh_springer_spaniel  0.465074    True              collie   \n",
       "1        1                 redbone  0.506826    True  miniature_pinscher   \n",
       "2        1         German_shepherd  0.596461    True            malinois   \n",
       "3        1     Rhodesian_ridgeback  0.408143    True             redbone   \n",
       "4        1      miniature_pinscher  0.560311    True          Rottweiler   \n",
       "\n",
       "    p2_conf  p2_dog                   p3   p3_conf  p3_dog  \n",
       "0  0.156665    True    Shetland_sheepdog  0.061428    True  \n",
       "1  0.074192    True  Rhodesian_ridgeback  0.072010    True  \n",
       "2  0.138584    True           bloodhound  0.116197    True  \n",
       "3  0.360687    True   miniature_pinscher  0.222752    True  \n",
       "4  0.243682    True             Doberman  0.154629    True  "
      ]
     },
     "execution_count": 27,
     "metadata": {},
     "output_type": "execute_result"
    }
   ],
   "source": [
    "# View the first five rows of image_predictions dataframe\n",
    "image_predictions.head()"
   ]
  },
  {
   "cell_type": "code",
   "execution_count": 28,
   "metadata": {},
   "outputs": [
    {
     "name": "stdout",
     "output_type": "stream",
     "text": [
      "<class 'pandas.core.frame.DataFrame'>\n",
      "RangeIndex: 2075 entries, 0 to 2074\n",
      "Data columns (total 12 columns):\n",
      "tweet_id    2075 non-null int64\n",
      "jpg_url     2075 non-null object\n",
      "img_num     2075 non-null int64\n",
      "p1          2075 non-null object\n",
      "p1_conf     2075 non-null float64\n",
      "p1_dog      2075 non-null bool\n",
      "p2          2075 non-null object\n",
      "p2_conf     2075 non-null float64\n",
      "p2_dog      2075 non-null bool\n",
      "p3          2075 non-null object\n",
      "p3_conf     2075 non-null float64\n",
      "p3_dog      2075 non-null bool\n",
      "dtypes: bool(3), float64(3), int64(2), object(4)\n",
      "memory usage: 152.1+ KB\n"
     ]
    }
   ],
   "source": [
    "# View properties of image_predictions dataframe\n",
    "image_predictions.info()"
   ]
  },
  {
   "cell_type": "code",
   "execution_count": 29,
   "metadata": {},
   "outputs": [
    {
     "data": {
      "text/plain": [
       "0"
      ]
     },
     "execution_count": 29,
     "metadata": {},
     "output_type": "execute_result"
    }
   ],
   "source": [
    "# Check for duplicates\n",
    "sum(image_predictions.duplicated())"
   ]
  },
  {
   "cell_type": "code",
   "execution_count": 30,
   "metadata": {},
   "outputs": [
    {
     "data": {
      "text/plain": [
       "tweet_id    0\n",
       "jpg_url     0\n",
       "img_num     0\n",
       "p1          0\n",
       "p1_conf     0\n",
       "p1_dog      0\n",
       "p2          0\n",
       "p2_conf     0\n",
       "p2_dog      0\n",
       "p3          0\n",
       "p3_conf     0\n",
       "p3_dog      0\n",
       "dtype: int64"
      ]
     },
     "execution_count": 30,
     "metadata": {},
     "output_type": "execute_result"
    }
   ],
   "source": [
    "# Check for null values\n",
    "image_predictions.isnull().sum()"
   ]
  },
  {
   "cell_type": "code",
   "execution_count": 31,
   "metadata": {
    "scrolled": true
   },
   "outputs": [
    {
     "data": {
      "text/plain": [
       "True     1532\n",
       "False     543\n",
       "Name: p1_dog, dtype: int64"
      ]
     },
     "execution_count": 31,
     "metadata": {},
     "output_type": "execute_result"
    }
   ],
   "source": [
    "# Check value counts for the algorithm's #1 prediction\n",
    "image_predictions.p1_dog.value_counts()"
   ]
  },
  {
   "cell_type": "code",
   "execution_count": 32,
   "metadata": {},
   "outputs": [
    {
     "data": {
      "text/plain": [
       "True     1553\n",
       "False     522\n",
       "Name: p2_dog, dtype: int64"
      ]
     },
     "execution_count": 32,
     "metadata": {},
     "output_type": "execute_result"
    }
   ],
   "source": [
    "# Check value counts for the algorithm's #2 prediction\n",
    "image_predictions.p2_dog.value_counts()"
   ]
  },
  {
   "cell_type": "code",
   "execution_count": 33,
   "metadata": {},
   "outputs": [
    {
     "data": {
      "text/plain": [
       "True     1499\n",
       "False     576\n",
       "Name: p3_dog, dtype: int64"
      ]
     },
     "execution_count": 33,
     "metadata": {},
     "output_type": "execute_result"
    }
   ],
   "source": [
    "# Check value counts for the algorithm's #3 prediction\n",
    "image_predictions.p3_dog.value_counts()"
   ]
  },
  {
   "cell_type": "markdown",
   "metadata": {},
   "source": [
    "### 3) Tweet_count"
   ]
  },
  {
   "cell_type": "code",
   "execution_count": 34,
   "metadata": {},
   "outputs": [
    {
     "data": {
      "text/plain": [
       "(2331, 3)"
      ]
     },
     "execution_count": 34,
     "metadata": {},
     "output_type": "execute_result"
    }
   ],
   "source": [
    "# Check dataframe shape\n",
    "tweet_count.shape"
   ]
  },
  {
   "cell_type": "code",
   "execution_count": 35,
   "metadata": {},
   "outputs": [
    {
     "data": {
      "text/html": [
       "<div>\n",
       "<style scoped>\n",
       "    .dataframe tbody tr th:only-of-type {\n",
       "        vertical-align: middle;\n",
       "    }\n",
       "\n",
       "    .dataframe tbody tr th {\n",
       "        vertical-align: top;\n",
       "    }\n",
       "\n",
       "    .dataframe thead th {\n",
       "        text-align: right;\n",
       "    }\n",
       "</style>\n",
       "<table border=\"1\" class=\"dataframe\">\n",
       "  <thead>\n",
       "    <tr style=\"text-align: right;\">\n",
       "      <th></th>\n",
       "      <th>tweet_id</th>\n",
       "      <th>retweet_count</th>\n",
       "      <th>favorite_count</th>\n",
       "    </tr>\n",
       "  </thead>\n",
       "  <tbody>\n",
       "    <tr>\n",
       "      <th>0</th>\n",
       "      <td>892420643555336193</td>\n",
       "      <td>7795</td>\n",
       "      <td>36603</td>\n",
       "    </tr>\n",
       "    <tr>\n",
       "      <th>1</th>\n",
       "      <td>892177421306343426</td>\n",
       "      <td>5774</td>\n",
       "      <td>31542</td>\n",
       "    </tr>\n",
       "    <tr>\n",
       "      <th>2</th>\n",
       "      <td>891815181378084864</td>\n",
       "      <td>3822</td>\n",
       "      <td>23761</td>\n",
       "    </tr>\n",
       "    <tr>\n",
       "      <th>3</th>\n",
       "      <td>891689557279858688</td>\n",
       "      <td>7964</td>\n",
       "      <td>39937</td>\n",
       "    </tr>\n",
       "    <tr>\n",
       "      <th>4</th>\n",
       "      <td>891327558926688256</td>\n",
       "      <td>8603</td>\n",
       "      <td>38136</td>\n",
       "    </tr>\n",
       "  </tbody>\n",
       "</table>\n",
       "</div>"
      ],
      "text/plain": [
       "             tweet_id  retweet_count  favorite_count\n",
       "0  892420643555336193           7795           36603\n",
       "1  892177421306343426           5774           31542\n",
       "2  891815181378084864           3822           23761\n",
       "3  891689557279858688           7964           39937\n",
       "4  891327558926688256           8603           38136"
      ]
     },
     "execution_count": 35,
     "metadata": {},
     "output_type": "execute_result"
    }
   ],
   "source": [
    "# Check fist five rows of tweet_count\n",
    "tweet_count.head()"
   ]
  },
  {
   "cell_type": "code",
   "execution_count": 36,
   "metadata": {
    "scrolled": true
   },
   "outputs": [
    {
     "name": "stdout",
     "output_type": "stream",
     "text": [
      "<class 'pandas.core.frame.DataFrame'>\n",
      "RangeIndex: 2331 entries, 0 to 2330\n",
      "Data columns (total 3 columns):\n",
      "tweet_id          2331 non-null int64\n",
      "retweet_count     2331 non-null int64\n",
      "favorite_count    2331 non-null int64\n",
      "dtypes: int64(3)\n",
      "memory usage: 54.7 KB\n"
     ]
    }
   ],
   "source": [
    "# Check dataframe properties\n",
    "tweet_count.info()"
   ]
  },
  {
   "cell_type": "code",
   "execution_count": 37,
   "metadata": {},
   "outputs": [
    {
     "data": {
      "text/plain": [
       "0"
      ]
     },
     "execution_count": 37,
     "metadata": {},
     "output_type": "execute_result"
    }
   ],
   "source": [
    "# Check for duplicates\n",
    "sum(tweet_count.duplicated())"
   ]
  },
  {
   "cell_type": "code",
   "execution_count": 38,
   "metadata": {},
   "outputs": [
    {
     "data": {
      "text/html": [
       "<div>\n",
       "<style scoped>\n",
       "    .dataframe tbody tr th:only-of-type {\n",
       "        vertical-align: middle;\n",
       "    }\n",
       "\n",
       "    .dataframe tbody tr th {\n",
       "        vertical-align: top;\n",
       "    }\n",
       "\n",
       "    .dataframe thead th {\n",
       "        text-align: right;\n",
       "    }\n",
       "</style>\n",
       "<table border=\"1\" class=\"dataframe\">\n",
       "  <thead>\n",
       "    <tr style=\"text-align: right;\">\n",
       "      <th></th>\n",
       "      <th>tweet_id</th>\n",
       "      <th>retweet_count</th>\n",
       "      <th>favorite_count</th>\n",
       "    </tr>\n",
       "  </thead>\n",
       "  <tbody>\n",
       "    <tr>\n",
       "      <th>count</th>\n",
       "      <td>2.331000e+03</td>\n",
       "      <td>2331.000000</td>\n",
       "      <td>2331.000000</td>\n",
       "    </tr>\n",
       "    <tr>\n",
       "      <th>mean</th>\n",
       "      <td>7.419079e+17</td>\n",
       "      <td>2739.008151</td>\n",
       "      <td>7648.988417</td>\n",
       "    </tr>\n",
       "    <tr>\n",
       "      <th>std</th>\n",
       "      <td>6.823170e+16</td>\n",
       "      <td>4631.653047</td>\n",
       "      <td>11868.466479</td>\n",
       "    </tr>\n",
       "    <tr>\n",
       "      <th>min</th>\n",
       "      <td>6.660209e+17</td>\n",
       "      <td>1.000000</td>\n",
       "      <td>0.000000</td>\n",
       "    </tr>\n",
       "    <tr>\n",
       "      <th>25%</th>\n",
       "      <td>6.782670e+17</td>\n",
       "      <td>553.500000</td>\n",
       "      <td>1337.000000</td>\n",
       "    </tr>\n",
       "    <tr>\n",
       "      <th>50%</th>\n",
       "      <td>7.182469e+17</td>\n",
       "      <td>1286.000000</td>\n",
       "      <td>3331.000000</td>\n",
       "    </tr>\n",
       "    <tr>\n",
       "      <th>75%</th>\n",
       "      <td>7.986692e+17</td>\n",
       "      <td>3187.000000</td>\n",
       "      <td>9382.000000</td>\n",
       "    </tr>\n",
       "    <tr>\n",
       "      <th>max</th>\n",
       "      <td>8.924206e+17</td>\n",
       "      <td>78811.000000</td>\n",
       "      <td>158176.000000</td>\n",
       "    </tr>\n",
       "  </tbody>\n",
       "</table>\n",
       "</div>"
      ],
      "text/plain": [
       "           tweet_id  retweet_count  favorite_count\n",
       "count  2.331000e+03    2331.000000     2331.000000\n",
       "mean   7.419079e+17    2739.008151     7648.988417\n",
       "std    6.823170e+16    4631.653047    11868.466479\n",
       "min    6.660209e+17       1.000000        0.000000\n",
       "25%    6.782670e+17     553.500000     1337.000000\n",
       "50%    7.182469e+17    1286.000000     3331.000000\n",
       "75%    7.986692e+17    3187.000000     9382.000000\n",
       "max    8.924206e+17   78811.000000   158176.000000"
      ]
     },
     "execution_count": 38,
     "metadata": {},
     "output_type": "execute_result"
    }
   ],
   "source": [
    "# Check tweet_count dataframe descriptive statistics\n",
    "tweet_count.describe()"
   ]
  },
  {
   "cell_type": "code",
   "execution_count": 39,
   "metadata": {},
   "outputs": [
    {
     "data": {
      "text/plain": [
       "tweet_id          0\n",
       "retweet_count     0\n",
       "favorite_count    0\n",
       "dtype: int64"
      ]
     },
     "execution_count": 39,
     "metadata": {},
     "output_type": "execute_result"
    }
   ],
   "source": [
    "# Check for null values in the data\n",
    "tweet_count.isnull().sum()"
   ]
  },
  {
   "cell_type": "markdown",
   "metadata": {},
   "source": [
    "## Data Assessment\n",
    "\n",
    "### Quality Issues\n",
    "\n",
    "- The columns with timestamps should be converted to datetime.\n",
    "- The `rating_denominator` column has values less than 10.\n",
    "- Clean up the `name` column in the `tweet_archives` data set, the column contains words that are not names, such as, officially, infuriating, getting, etc.\n",
    "- The number of tweet id's in the `tweet_id`column of the `twitter archive data set` is more than the number of tweet_id's in `tweet_id` column of the `image prediction data set`.\n",
    "- The `source` column should be cleaned up as it contains html characters.\n",
    "- There is completeness issue in the columns relating to `in_reply` in the `twitter archive data set`.\n",
    "- There are rows with conflicting stages, i.e., more than one stage.\n",
    "\n",
    "### Tidiness Issues\n",
    "\n",
    "- The `dog stage` columns should be merged into one column.\n",
    "- There is completeness issue in the columns relating to `retweets` in the `twitter archive data set`.\n",
    "- A new column should be added for the various dog breeds.\n",
    "- Merge data frames together."
   ]
  },
  {
   "cell_type": "markdown",
   "metadata": {},
   "source": [
    "## Step 3: Data Cleaning"
   ]
  },
  {
   "cell_type": "markdown",
   "metadata": {},
   "source": [
    "### Quality "
   ]
  },
  {
   "cell_type": "code",
   "execution_count": 40,
   "metadata": {},
   "outputs": [],
   "source": [
    "# Make a copy of the tweet_archive data set\n",
    "df_clean_archive = tweet_archive_df.copy()"
   ]
  },
  {
   "cell_type": "code",
   "execution_count": 41,
   "metadata": {},
   "outputs": [],
   "source": [
    "# Make a copy of the tweet_count data set\n",
    "tweet_count_clean = tweet_count.copy()"
   ]
  },
  {
   "cell_type": "code",
   "execution_count": 42,
   "metadata": {},
   "outputs": [],
   "source": [
    "# Make a copy of the image_predictions data set\n",
    "img_prediction_clean = image_predictions.copy()"
   ]
  },
  {
   "cell_type": "markdown",
   "metadata": {},
   "source": [
    "### Define\n",
    "- Fix the unequal rows in the archives_clean data set and image_predictions data set, such that the rows in the archives_clean data set will match the rows in the image_prdeictions data set and all tweet_id's in the archives data set will have images."
   ]
  },
  {
   "cell_type": "markdown",
   "metadata": {},
   "source": [
    "### Code"
   ]
  },
  {
   "cell_type": "code",
   "execution_count": 43,
   "metadata": {},
   "outputs": [],
   "source": [
    "df_clean_archive = df_clean_archive[df_clean_archive.tweet_id.isin(image_predictions.tweet_id)]"
   ]
  },
  {
   "cell_type": "markdown",
   "metadata": {},
   "source": [
    "### Test"
   ]
  },
  {
   "cell_type": "code",
   "execution_count": 44,
   "metadata": {},
   "outputs": [
    {
     "data": {
      "text/plain": [
       "True"
      ]
     },
     "execution_count": 44,
     "metadata": {},
     "output_type": "execute_result"
    }
   ],
   "source": [
    "len(df_clean_archive['tweet_id']) == len(image_predictions['tweet_id'])"
   ]
  },
  {
   "cell_type": "markdown",
   "metadata": {},
   "source": [
    "### Define\n",
    "- Drop retweeted_status_id, retweeted_status_user_id, retweeted_status_timestamp columns in the archives_clean data set, there are too many missing values and i will not be using the columns for my analysis."
   ]
  },
  {
   "cell_type": "markdown",
   "metadata": {},
   "source": [
    "### Code"
   ]
  },
  {
   "cell_type": "code",
   "execution_count": 45,
   "metadata": {},
   "outputs": [],
   "source": [
    "df_clean_archive.drop(columns = ['retweeted_status_id', 'retweeted_status_user_id', 'retweeted_status_timestamp'], inplace=True)"
   ]
  },
  {
   "cell_type": "markdown",
   "metadata": {},
   "source": [
    "### Test"
   ]
  },
  {
   "cell_type": "code",
   "execution_count": 46,
   "metadata": {
    "scrolled": true
   },
   "outputs": [
    {
     "name": "stdout",
     "output_type": "stream",
     "text": [
      "<class 'pandas.core.frame.DataFrame'>\n",
      "Int64Index: 2075 entries, 0 to 2355\n",
      "Data columns (total 14 columns):\n",
      "tweet_id                 2075 non-null int64\n",
      "in_reply_to_status_id    23 non-null float64\n",
      "in_reply_to_user_id      23 non-null float64\n",
      "timestamp                2075 non-null object\n",
      "source                   2075 non-null object\n",
      "text                     2075 non-null object\n",
      "expanded_urls            2075 non-null object\n",
      "rating_numerator         2075 non-null int64\n",
      "rating_denominator       2075 non-null int64\n",
      "name                     2075 non-null object\n",
      "doggo                    2075 non-null object\n",
      "floofer                  2075 non-null object\n",
      "pupper                   2075 non-null object\n",
      "puppo                    2075 non-null object\n",
      "dtypes: float64(2), int64(3), object(9)\n",
      "memory usage: 243.2+ KB\n"
     ]
    }
   ],
   "source": [
    "df_clean_archive.info()"
   ]
  },
  {
   "cell_type": "markdown",
   "metadata": {},
   "source": [
    "### Define\n",
    "- Convert timestamp column to datetime"
   ]
  },
  {
   "cell_type": "markdown",
   "metadata": {},
   "source": [
    "### Code"
   ]
  },
  {
   "cell_type": "code",
   "execution_count": 47,
   "metadata": {},
   "outputs": [],
   "source": [
    "df_clean_archive['timestamp'] = pd.to_datetime(df_clean_archive['timestamp'])"
   ]
  },
  {
   "cell_type": "markdown",
   "metadata": {},
   "source": [
    "### Test"
   ]
  },
  {
   "cell_type": "code",
   "execution_count": 48,
   "metadata": {},
   "outputs": [
    {
     "data": {
      "text/plain": [
       "timestamp    datetime64[ns]\n",
       "dtype: object"
      ]
     },
     "execution_count": 48,
     "metadata": {},
     "output_type": "execute_result"
    }
   ],
   "source": [
    "df_clean_archive[['timestamp']].dtypes"
   ]
  },
  {
   "cell_type": "markdown",
   "metadata": {},
   "source": [
    "### Define\n",
    "- Delete rows with `rating_denominator` less than 10"
   ]
  },
  {
   "cell_type": "markdown",
   "metadata": {},
   "source": [
    "### Code"
   ]
  },
  {
   "cell_type": "code",
   "execution_count": 49,
   "metadata": {},
   "outputs": [],
   "source": [
    "rating_denominator = df_clean_archive.query('rating_denominator < 10 or rating_denominator > 10').index\n",
    " \n",
    "# Delete these row indexes from dataFrame\n",
    "df_clean_archive.drop(rating_denominator , inplace=True)"
   ]
  },
  {
   "cell_type": "markdown",
   "metadata": {},
   "source": [
    "### Test"
   ]
  },
  {
   "cell_type": "code",
   "execution_count": 50,
   "metadata": {},
   "outputs": [
    {
     "data": {
      "text/html": [
       "<div>\n",
       "<style scoped>\n",
       "    .dataframe tbody tr th:only-of-type {\n",
       "        vertical-align: middle;\n",
       "    }\n",
       "\n",
       "    .dataframe tbody tr th {\n",
       "        vertical-align: top;\n",
       "    }\n",
       "\n",
       "    .dataframe thead th {\n",
       "        text-align: right;\n",
       "    }\n",
       "</style>\n",
       "<table border=\"1\" class=\"dataframe\">\n",
       "  <thead>\n",
       "    <tr style=\"text-align: right;\">\n",
       "      <th></th>\n",
       "      <th>tweet_id</th>\n",
       "      <th>in_reply_to_status_id</th>\n",
       "      <th>in_reply_to_user_id</th>\n",
       "      <th>timestamp</th>\n",
       "      <th>source</th>\n",
       "      <th>text</th>\n",
       "      <th>expanded_urls</th>\n",
       "      <th>rating_numerator</th>\n",
       "      <th>rating_denominator</th>\n",
       "      <th>name</th>\n",
       "      <th>doggo</th>\n",
       "      <th>floofer</th>\n",
       "      <th>pupper</th>\n",
       "      <th>puppo</th>\n",
       "    </tr>\n",
       "  </thead>\n",
       "  <tbody>\n",
       "  </tbody>\n",
       "</table>\n",
       "</div>"
      ],
      "text/plain": [
       "Empty DataFrame\n",
       "Columns: [tweet_id, in_reply_to_status_id, in_reply_to_user_id, timestamp, source, text, expanded_urls, rating_numerator, rating_denominator, name, doggo, floofer, pupper, puppo]\n",
       "Index: []"
      ]
     },
     "execution_count": 50,
     "metadata": {},
     "output_type": "execute_result"
    }
   ],
   "source": [
    "df_clean_archive.query('rating_denominator < 10 or rating_denominator > 10')"
   ]
  },
  {
   "cell_type": "markdown",
   "metadata": {},
   "source": [
    "### Define \n",
    "- Clean up the `source` column such that the html characters are stripped"
   ]
  },
  {
   "cell_type": "markdown",
   "metadata": {},
   "source": [
    "### Code"
   ]
  },
  {
   "cell_type": "code",
   "execution_count": 51,
   "metadata": {},
   "outputs": [],
   "source": [
    "df_clean_archive.source = df_clean_archive.source.str.replace(r'<[^>]+>', '')"
   ]
  },
  {
   "cell_type": "code",
   "execution_count": 52,
   "metadata": {},
   "outputs": [],
   "source": [
    "# Change the datatype to category\n",
    "df_clean_archive.source = df_clean_archive.source.astype('category')"
   ]
  },
  {
   "cell_type": "markdown",
   "metadata": {},
   "source": [
    "### Test"
   ]
  },
  {
   "cell_type": "code",
   "execution_count": 53,
   "metadata": {},
   "outputs": [
    {
     "data": {
      "text/plain": [
       "Twitter for iPhone    2016\n",
       "Twitter Web Client      30\n",
       "TweetDeck               11\n",
       "Name: source, dtype: int64"
      ]
     },
     "execution_count": 53,
     "metadata": {},
     "output_type": "execute_result"
    }
   ],
   "source": [
    "df_clean_archive.source.value_counts()"
   ]
  },
  {
   "cell_type": "markdown",
   "metadata": {},
   "source": [
    "### Define\n",
    "- Replace all words that are not names with `None`, since `None` has the highest value count."
   ]
  },
  {
   "cell_type": "markdown",
   "metadata": {},
   "source": [
    "### Code"
   ]
  },
  {
   "cell_type": "code",
   "execution_count": 54,
   "metadata": {},
   "outputs": [
    {
     "name": "stderr",
     "output_type": "stream",
     "text": [
      "/opt/conda/lib/python3.6/site-packages/ipykernel_launcher.py:1: SettingWithCopyWarning: \n",
      "A value is trying to be set on a copy of a slice from a DataFrame\n",
      "\n",
      "See the caveats in the documentation: http://pandas.pydata.org/pandas-docs/stable/indexing.html#indexing-view-versus-copy\n",
      "  \"\"\"Entry point for launching an IPython kernel.\n"
     ]
    }
   ],
   "source": [
    "df_clean_archive['name'][df_clean_archive['name'].str.match('[a-z]+')] = 'None'"
   ]
  },
  {
   "cell_type": "markdown",
   "metadata": {},
   "source": [
    "### Test"
   ]
  },
  {
   "cell_type": "code",
   "execution_count": 55,
   "metadata": {},
   "outputs": [
    {
     "data": {
      "text/plain": [
       "Abby            2\n",
       "Ace             1\n",
       "Acro            1\n",
       "Adele           1\n",
       "Aiden           1\n",
       "Aja             1\n",
       "Akumi           1\n",
       "Al              1\n",
       "Albert          2\n",
       "Albus           2\n",
       "Aldrick         1\n",
       "Alejandro       1\n",
       "Alexander       1\n",
       "Alexanderson    1\n",
       "Alf             1\n",
       "Alfie           5\n",
       "Alfy            1\n",
       "Alice           2\n",
       "Amber           1\n",
       "Ambrose         1\n",
       "Amy             1\n",
       "Amélie          1\n",
       "Anakin          1\n",
       "Andru           1\n",
       "Andy            1\n",
       "Angel           1\n",
       "Anna            1\n",
       "Anthony         1\n",
       "Antony          1\n",
       "Apollo          1\n",
       "               ..\n",
       "Waffles         3\n",
       "Walker          1\n",
       "Wallace         3\n",
       "Wally           2\n",
       "Walter          4\n",
       "Watson          2\n",
       "Wesley          1\n",
       "Wiggles         1\n",
       "Willem          1\n",
       "William         1\n",
       "Willie          1\n",
       "Willow          1\n",
       "Willy           1\n",
       "Wilson          3\n",
       "Winifred        1\n",
       "Winnie          4\n",
       "Winston         8\n",
       "Wishes          1\n",
       "Wyatt           3\n",
       "Yoda            1\n",
       "Yogi            2\n",
       "Zara            1\n",
       "Zeek            1\n",
       "Zeke            3\n",
       "Zeus            1\n",
       "Ziva            1\n",
       "Zoe             1\n",
       "Zoey            3\n",
       "Zooey           1\n",
       "Zuzu            1\n",
       "Name: name, Length: 912, dtype: int64"
      ]
     },
     "execution_count": 55,
     "metadata": {},
     "output_type": "execute_result"
    }
   ],
   "source": [
    "df_clean_archive.name.value_counts().sort_index()"
   ]
  },
  {
   "cell_type": "markdown",
   "metadata": {},
   "source": [
    "### Define\n",
    "- Replace every null values with 0 in the `in_reply_to_status_id` column and `in_reply_to_user_id` column."
   ]
  },
  {
   "cell_type": "markdown",
   "metadata": {},
   "source": [
    "### Code"
   ]
  },
  {
   "cell_type": "code",
   "execution_count": 56,
   "metadata": {},
   "outputs": [],
   "source": [
    "df_clean_archive['in_reply_to_status_id'] = df_clean_archive['in_reply_to_status_id'].fillna(0)\n",
    "df_clean_archive['in_reply_to_user_id'] = df_clean_archive['in_reply_to_user_id'].fillna(0)"
   ]
  },
  {
   "cell_type": "code",
   "execution_count": 57,
   "metadata": {},
   "outputs": [],
   "source": [
    "# Convert the columns from float to integers\n",
    "df_clean_archive['in_reply_to_status_id'] = df_clean_archive['in_reply_to_status_id'].astype(int)\n",
    "df_clean_archive['in_reply_to_user_id'] = df_clean_archive['in_reply_to_user_id'].astype(int)"
   ]
  },
  {
   "cell_type": "markdown",
   "metadata": {},
   "source": [
    "### Test"
   ]
  },
  {
   "cell_type": "code",
   "execution_count": 58,
   "metadata": {},
   "outputs": [
    {
     "data": {
      "text/plain": [
       "in_reply_to_status_id    int64\n",
       "in_reply_to_user_id      int64\n",
       "dtype: object"
      ]
     },
     "execution_count": 58,
     "metadata": {},
     "output_type": "execute_result"
    }
   ],
   "source": [
    "df_clean_archive[['in_reply_to_status_id', 'in_reply_to_user_id']].dtypes"
   ]
  },
  {
   "cell_type": "code",
   "execution_count": 59,
   "metadata": {},
   "outputs": [
    {
     "name": "stdout",
     "output_type": "stream",
     "text": [
      "<class 'pandas.core.frame.DataFrame'>\n",
      "Int64Index: 2057 entries, 0 to 2355\n",
      "Data columns (total 14 columns):\n",
      "tweet_id                 2057 non-null int64\n",
      "in_reply_to_status_id    2057 non-null int64\n",
      "in_reply_to_user_id      2057 non-null int64\n",
      "timestamp                2057 non-null datetime64[ns]\n",
      "source                   2057 non-null category\n",
      "text                     2057 non-null object\n",
      "expanded_urls            2057 non-null object\n",
      "rating_numerator         2057 non-null int64\n",
      "rating_denominator       2057 non-null int64\n",
      "name                     2057 non-null object\n",
      "doggo                    2057 non-null object\n",
      "floofer                  2057 non-null object\n",
      "pupper                   2057 non-null object\n",
      "puppo                    2057 non-null object\n",
      "dtypes: category(1), datetime64[ns](1), int64(5), object(7)\n",
      "memory usage: 227.1+ KB\n"
     ]
    }
   ],
   "source": [
    "df_clean_archive.info()"
   ]
  },
  {
   "cell_type": "markdown",
   "metadata": {},
   "source": [
    "### Define\n",
    "- Resolve the conflicting rows where there are two dog stages in a row.\n",
    "- There is 1 instance of doggo and floofer used in a row, 11 instances of doggo and pupper, and 1 instance of doggo and puppo."
   ]
  },
  {
   "cell_type": "markdown",
   "metadata": {},
   "source": [
    "### Code"
   ]
  },
  {
   "cell_type": "code",
   "execution_count": 60,
   "metadata": {},
   "outputs": [
    {
     "data": {
      "text/plain": [
       "1"
      ]
     },
     "execution_count": 60,
     "metadata": {},
     "output_type": "execute_result"
    }
   ],
   "source": [
    "len(df_clean_archive.query('doggo != \"None\" and floofer != \"None\"'))"
   ]
  },
  {
   "cell_type": "code",
   "execution_count": 61,
   "metadata": {},
   "outputs": [
    {
     "data": {
      "text/plain": [
       "11"
      ]
     },
     "execution_count": 61,
     "metadata": {},
     "output_type": "execute_result"
    }
   ],
   "source": [
    "len(df_clean_archive.query('doggo != \"None\" and pupper != \"None\"'))"
   ]
  },
  {
   "cell_type": "code",
   "execution_count": 62,
   "metadata": {},
   "outputs": [
    {
     "data": {
      "text/plain": [
       "1"
      ]
     },
     "execution_count": 62,
     "metadata": {},
     "output_type": "execute_result"
    }
   ],
   "source": [
    "len(df_clean_archive.query('doggo != \"None\" and puppo != \"None\"'))"
   ]
  },
  {
   "cell_type": "code",
   "execution_count": 63,
   "metadata": {},
   "outputs": [
    {
     "name": "stdout",
     "output_type": "stream",
     "text": [
      "855851453814013952 Here's a puppo participating in the #ScienceMarch. Cleverly disguising her own doggo agenda. 13/10 would keep the planet habitable for https://t.co/cMhq16isel\n",
      "854010172552949760 At first I thought this was a shy doggo, but it's actually a Rare Canadian Floofer Owl. Amateurs would confuse the two. 11/10 only send dogs https://t.co/TXdT3tmuYk\n"
     ]
    }
   ],
   "source": [
    "for index, user in df_clean_archive[((df_clean_archive['doggo'] != 'None') & (df_clean_archive['floofer'] != 'None'))\n",
    "                   | ((df_clean_archive['doggo'] != 'None') & (df_clean_archive['puppo'] != 'None'))].iterrows():\n",
    "    print(user.tweet_id, user.text)"
   ]
  },
  {
   "cell_type": "markdown",
   "metadata": {},
   "source": [
    "- Since both rows shows that neither of the dogs are doggos, set doggo to \"None\" for both rows."
   ]
  },
  {
   "cell_type": "code",
   "execution_count": 64,
   "metadata": {},
   "outputs": [
    {
     "name": "stderr",
     "output_type": "stream",
     "text": [
      "/opt/conda/lib/python3.6/site-packages/ipykernel_launcher.py:1: SettingWithCopyWarning: \n",
      "A value is trying to be set on a copy of a slice from a DataFrame\n",
      "\n",
      "See the caveats in the documentation: http://pandas.pydata.org/pandas-docs/stable/indexing.html#indexing-view-versus-copy\n",
      "  \"\"\"Entry point for launching an IPython kernel.\n"
     ]
    }
   ],
   "source": [
    "df_clean_archive['doggo'][df_clean_archive.tweet_id.isin([855851453814013952, 854010172552949760])] = \"None\""
   ]
  },
  {
   "cell_type": "code",
   "execution_count": 65,
   "metadata": {},
   "outputs": [
    {
     "name": "stdout",
     "output_type": "stream",
     "text": [
      "817777686764523521 This is Dido. She's playing the lead role in \"Pupper Stops to Catch Snow Before Resuming Shadow Box with Dried Apple.\" 13/10 (IG: didodoggo) https://t.co/m7isZrOBX7\n",
      "808106460588765185 Here we have Burke (pupper) and Dexter (doggo). Pupper wants to be exactly like doggo. Both 12/10 would pet at same time https://t.co/ANBpEYHaho\n",
      "802265048156610565 Like doggo, like pupper version 2. Both 11/10 https://t.co/9IxWAXFqze\n",
      "801115127852503040 This is Bones. He's being haunted by another doggo of roughly the same size. 12/10 deep breaths pupper everything's fine https://t.co/55Dqe0SJNj\n",
      "785639753186217984 This is Pinot. He's a sophisticated doggo. You can tell by the hat. Also pointier than your average pupper. Still 10/10 would pet cautiously https://t.co/f2wmLZTPHd\n",
      "775898661951791106 RT @dog_rates: Like father (doggo), like son (pupper). Both 12/10 https://t.co/pG2inLaOda\n",
      "770093767776997377 RT @dog_rates: This is just downright precious af. 12/10 for both pupper and doggo https://t.co/o5J479bZUC\n",
      "759793422261743616 Meet Maggie &amp; Lila. Maggie is the doggo, Lila is the pupper. They are sisters. Both 12/10 would pet at the same time https://t.co/MYwR4DQKll\n",
      "751583847268179968 Please stop sending it pictures that don't even have a doggo or pupper in them. Churlish af. 5/10 neat couch tho https://t.co/u2c9c7qSg8\n",
      "741067306818797568 This is just downright precious af. 12/10 for both pupper and doggo https://t.co/o5J479bZUC\n",
      "733109485275860992 Like father (doggo), like son (pupper). Both 12/10 https://t.co/pG2inLaOda\n"
     ]
    }
   ],
   "source": [
    "for index, user in df_clean_archive.query(\"doggo != 'None' and pupper != 'None'\").iterrows():\n",
    "    print(user.tweet_id, user.text)"
   ]
  },
  {
   "cell_type": "markdown",
   "metadata": {},
   "source": [
    "- After checking out the rows, it is evident that the users were referring ti multiple dogs and not a mistake of dog stage. I'll leave it like that. "
   ]
  },
  {
   "cell_type": "markdown",
   "metadata": {},
   "source": [
    "### Tidiness"
   ]
  },
  {
   "cell_type": "markdown",
   "metadata": {},
   "source": [
    "### Define\n",
    "- Merge `doggo`, `pupper`, `poppo`, and `floofer` columns into one column.\n",
    "- Drop the columns after the merge."
   ]
  },
  {
   "cell_type": "code",
   "execution_count": 66,
   "metadata": {
    "scrolled": true
   },
   "outputs": [
    {
     "data": {
      "text/plain": [
       "None     1979\n",
       "doggo      78\n",
       "Name: doggo, dtype: int64"
      ]
     },
     "execution_count": 66,
     "metadata": {},
     "output_type": "execute_result"
    }
   ],
   "source": [
    "# View the value_counts for the doggo column\n",
    "df_clean_archive.doggo.value_counts()"
   ]
  },
  {
   "cell_type": "code",
   "execution_count": 67,
   "metadata": {},
   "outputs": [
    {
     "data": {
      "text/plain": [
       "None      1835\n",
       "pupper     222\n",
       "Name: pupper, dtype: int64"
      ]
     },
     "execution_count": 67,
     "metadata": {},
     "output_type": "execute_result"
    }
   ],
   "source": [
    "# View the value_counts for the pupper column\n",
    "df_clean_archive.pupper.value_counts()"
   ]
  },
  {
   "cell_type": "code",
   "execution_count": 68,
   "metadata": {},
   "outputs": [
    {
     "data": {
      "text/plain": [
       "None     2033\n",
       "puppo      24\n",
       "Name: puppo, dtype: int64"
      ]
     },
     "execution_count": 68,
     "metadata": {},
     "output_type": "execute_result"
    }
   ],
   "source": [
    "# View the value_counts for the puppo column\n",
    "df_clean_archive.puppo.value_counts()"
   ]
  },
  {
   "cell_type": "code",
   "execution_count": 69,
   "metadata": {},
   "outputs": [
    {
     "data": {
      "text/plain": [
       "None       2049\n",
       "floofer       8\n",
       "Name: floofer, dtype: int64"
      ]
     },
     "execution_count": 69,
     "metadata": {},
     "output_type": "execute_result"
    }
   ],
   "source": [
    "# View the value_counts for the floofer column\n",
    "df_clean_archive.floofer.value_counts()"
   ]
  },
  {
   "cell_type": "markdown",
   "metadata": {},
   "source": [
    "### Code"
   ]
  },
  {
   "cell_type": "code",
   "execution_count": 70,
   "metadata": {},
   "outputs": [],
   "source": [
    "df_clean_archive['dog_stage'] = df_clean_archive[['doggo', 'pupper', 'puppo', 'floofer']].max(axis=1)"
   ]
  },
  {
   "cell_type": "code",
   "execution_count": 71,
   "metadata": {},
   "outputs": [
    {
     "data": {
      "text/plain": [
       "dtype('O')"
      ]
     },
     "execution_count": 71,
     "metadata": {},
     "output_type": "execute_result"
    }
   ],
   "source": [
    "# Check for data type of dog_stage column\n",
    "df_clean_archive.dog_stage.dtypes"
   ]
  },
  {
   "cell_type": "code",
   "execution_count": 72,
   "metadata": {},
   "outputs": [],
   "source": [
    "# Change data type of dog_stage column to category \n",
    "df_clean_archive['dog_stage'] = df_clean_archive['dog_stage'].astype('category')"
   ]
  },
  {
   "cell_type": "code",
   "execution_count": 73,
   "metadata": {},
   "outputs": [],
   "source": [
    "# Drop the doggo, pupper, poppo, and floofer column\n",
    "df_clean_archive.drop(columns=['doggo', 'pupper', 'puppo', 'floofer'], inplace=True)"
   ]
  },
  {
   "cell_type": "markdown",
   "metadata": {},
   "source": [
    "### Test"
   ]
  },
  {
   "cell_type": "code",
   "execution_count": 74,
   "metadata": {},
   "outputs": [
    {
     "data": {
      "text/plain": [
       "1525      None\n",
       "1395    pupper\n",
       "1055      None\n",
       "866       None\n",
       "736      puppo\n",
       "2230      None\n",
       "2188      None\n",
       "2297      None\n",
       "362      doggo\n",
       "1979      None\n",
       "Name: dog_stage, dtype: category\n",
       "Categories (5, object): [None, doggo, floofer, pupper, puppo]"
      ]
     },
     "execution_count": 74,
     "metadata": {},
     "output_type": "execute_result"
    }
   ],
   "source": [
    "df_clean_archive.dog_stage.sample(10)"
   ]
  },
  {
   "cell_type": "code",
   "execution_count": 75,
   "metadata": {
    "scrolled": false
   },
   "outputs": [
    {
     "data": {
      "text/plain": [
       "CategoricalDtype(categories=['None', 'doggo', 'floofer', 'pupper', 'puppo'], ordered=False)"
      ]
     },
     "execution_count": 75,
     "metadata": {},
     "output_type": "execute_result"
    }
   ],
   "source": [
    "df_clean_archive.dog_stage.dtypes"
   ]
  },
  {
   "cell_type": "code",
   "execution_count": 76,
   "metadata": {},
   "outputs": [
    {
     "name": "stdout",
     "output_type": "stream",
     "text": [
      "<class 'pandas.core.frame.DataFrame'>\n",
      "Int64Index: 2057 entries, 0 to 2355\n",
      "Data columns (total 11 columns):\n",
      "tweet_id                 2057 non-null int64\n",
      "in_reply_to_status_id    2057 non-null int64\n",
      "in_reply_to_user_id      2057 non-null int64\n",
      "timestamp                2057 non-null datetime64[ns]\n",
      "source                   2057 non-null category\n",
      "text                     2057 non-null object\n",
      "expanded_urls            2057 non-null object\n",
      "rating_numerator         2057 non-null int64\n",
      "rating_denominator       2057 non-null int64\n",
      "name                     2057 non-null object\n",
      "dog_stage                2057 non-null category\n",
      "dtypes: category(2), datetime64[ns](1), int64(5), object(3)\n",
      "memory usage: 165.0+ KB\n"
     ]
    }
   ],
   "source": [
    "df_clean_archive.info()"
   ]
  },
  {
   "cell_type": "markdown",
   "metadata": {},
   "source": [
    "### Define\n",
    "- Since the aim of the cleaning is to merge all data frames, i will create a `dog_breed` column in the df_clean_archive.\n",
    "- I will drop the `jpg_url` column in image_predictions dataframe because there is an `expanded_url` column in df_clean_archive dataframe."
   ]
  },
  {
   "cell_type": "markdown",
   "metadata": {},
   "source": [
    "### Code"
   ]
  },
  {
   "cell_type": "code",
   "execution_count": 77,
   "metadata": {},
   "outputs": [],
   "source": [
    "df_clean_archive['dog_breed'] = \"None\""
   ]
  },
  {
   "cell_type": "code",
   "execution_count": 78,
   "metadata": {},
   "outputs": [
    {
     "name": "stderr",
     "output_type": "stream",
     "text": [
      "/opt/conda/lib/python3.6/site-packages/ipykernel_launcher.py:7: FutureWarning: set_value is deprecated and will be removed in a future release. Please use .at[] or .iat[] accessors instead\n",
      "  import sys\n"
     ]
    }
   ],
   "source": [
    "for index, user in df_clean_archive.iterrows():\n",
    "    df_img_predictions = image_predictions[image_predictions.tweet_id == user.tweet_id]\n",
    "    p1_dog = df_img_predictions.p1_dog.iloc[0]\n",
    "    p1_conf = df_img_predictions.p1_conf.iloc[0]\n",
    "    \n",
    "    if p1_dog and p1_dog > 0.95:\n",
    "        df_clean_archive.set_value(index, 'dog_breed', df_img_predictions.p1.iloc[0])"
   ]
  },
  {
   "cell_type": "code",
   "execution_count": 79,
   "metadata": {},
   "outputs": [],
   "source": [
    "df_clean_archive['dog_breed'] = df_clean_archive['dog_breed'].astype('category')\n"
   ]
  },
  {
   "cell_type": "code",
   "execution_count": 80,
   "metadata": {},
   "outputs": [],
   "source": [
    "# Drop the jpg_url column in the image_predictions dataset\n",
    "image_predictions.drop(columns={'jpg_url'}, inplace=True)"
   ]
  },
  {
   "cell_type": "markdown",
   "metadata": {},
   "source": [
    "### Test"
   ]
  },
  {
   "cell_type": "code",
   "execution_count": 81,
   "metadata": {},
   "outputs": [
    {
     "data": {
      "text/plain": [
       "CategoricalDtype(categories=['Afghan_hound', 'Airedale', 'American_Staffordshire_terrier',\n",
       "                  'Appenzeller', 'Australian_terrier', 'Bedlington_terrier',\n",
       "                  'Bernese_mountain_dog', 'Blenheim_spaniel', 'Border_collie',\n",
       "                  'Border_terrier',\n",
       "                  ...\n",
       "                  'schipperke', 'silky_terrier', 'soft-coated_wheaten_terrier',\n",
       "                  'standard_poodle', 'standard_schnauzer', 'toy_poodle',\n",
       "                  'toy_terrier', 'vizsla', 'whippet',\n",
       "                  'wire-haired_fox_terrier'],\n",
       "                 ordered=False)"
      ]
     },
     "execution_count": 81,
     "metadata": {},
     "output_type": "execute_result"
    }
   ],
   "source": [
    "df_clean_archive['dog_breed'].dtypes"
   ]
  },
  {
   "cell_type": "code",
   "execution_count": 82,
   "metadata": {},
   "outputs": [
    {
     "name": "stdout",
     "output_type": "stream",
     "text": [
      "<class 'pandas.core.frame.DataFrame'>\n",
      "RangeIndex: 2075 entries, 0 to 2074\n",
      "Data columns (total 11 columns):\n",
      "tweet_id    2075 non-null int64\n",
      "img_num     2075 non-null int64\n",
      "p1          2075 non-null object\n",
      "p1_conf     2075 non-null float64\n",
      "p1_dog      2075 non-null bool\n",
      "p2          2075 non-null object\n",
      "p2_conf     2075 non-null float64\n",
      "p2_dog      2075 non-null bool\n",
      "p3          2075 non-null object\n",
      "p3_conf     2075 non-null float64\n",
      "p3_dog      2075 non-null bool\n",
      "dtypes: bool(3), float64(3), int64(2), object(3)\n",
      "memory usage: 135.8+ KB\n"
     ]
    }
   ],
   "source": [
    "image_predictions.info()"
   ]
  },
  {
   "cell_type": "code",
   "execution_count": 83,
   "metadata": {
    "scrolled": false
   },
   "outputs": [
    {
     "data": {
      "text/plain": [
       "None                          540\n",
       "golden_retriever              146\n",
       "Labrador_retriever             97\n",
       "Pembroke                       89\n",
       "Chihuahua                      83\n",
       "pug                            57\n",
       "chow                           44\n",
       "Samoyed                        43\n",
       "toy_poodle                     39\n",
       "Pomeranian                     38\n",
       "cocker_spaniel                 30\n",
       "malamute                       30\n",
       "French_bulldog                 26\n",
       "miniature_pinscher             23\n",
       "Chesapeake_Bay_retriever       23\n",
       "German_shepherd                20\n",
       "Staffordshire_bullterrier      20\n",
       "Cardigan                       19\n",
       "Siberian_husky                 19\n",
       "Shetland_sheepdog              18\n",
       "beagle                         18\n",
       "Eskimo_dog                     18\n",
       "Rottweiler                     17\n",
       "Lakeland_terrier               17\n",
       "Maltese_dog                    17\n",
       "Shih-Tzu                       17\n",
       "Italian_greyhound              16\n",
       "kuvasz                         16\n",
       "Pekinese                       13\n",
       "Great_Pyrenees                 13\n",
       "                             ... \n",
       "Saluki                          4\n",
       "keeshond                        4\n",
       "Tibetan_terrier                 4\n",
       "Weimaraner                      4\n",
       "bluetick                        4\n",
       "Leonberg                        3\n",
       "cairn                           3\n",
       "komondor                        3\n",
       "giant_schnauzer                 3\n",
       "curly-coated_retriever          3\n",
       "Welsh_springer_spaniel          3\n",
       "briard                          3\n",
       "Irish_water_spaniel             3\n",
       "Scottish_deerhound              3\n",
       "Greater_Swiss_Mountain_dog      3\n",
       "Ibizan_hound                    3\n",
       "Brabancon_griffon               3\n",
       "Australian_terrier              2\n",
       "Appenzeller                     2\n",
       "wire-haired_fox_terrier         2\n",
       "Sussex_spaniel                  2\n",
       "black-and-tan_coonhound         2\n",
       "toy_terrier                     2\n",
       "EntleBucher                     1\n",
       "Japanese_spaniel                1\n",
       "clumber                         1\n",
       "groenendael                     1\n",
       "silky_terrier                   1\n",
       "standard_schnauzer              1\n",
       "Scotch_terrier                  1\n",
       "Name: dog_breed, Length: 112, dtype: int64"
      ]
     },
     "execution_count": 83,
     "metadata": {},
     "output_type": "execute_result"
    }
   ],
   "source": [
    "df_clean_archive.dog_breed.value_counts()"
   ]
  },
  {
   "cell_type": "code",
   "execution_count": 84,
   "metadata": {},
   "outputs": [
    {
     "name": "stdout",
     "output_type": "stream",
     "text": [
      "<class 'pandas.core.frame.DataFrame'>\n",
      "RangeIndex: 2331 entries, 0 to 2330\n",
      "Data columns (total 3 columns):\n",
      "tweet_id          2331 non-null int64\n",
      "retweet_count     2331 non-null int64\n",
      "favorite_count    2331 non-null int64\n",
      "dtypes: int64(3)\n",
      "memory usage: 54.7 KB\n"
     ]
    }
   ],
   "source": [
    "tweet_count_clean.info()"
   ]
  },
  {
   "cell_type": "markdown",
   "metadata": {},
   "source": [
    "## Merge Dataframes"
   ]
  },
  {
   "cell_type": "code",
   "execution_count": 85,
   "metadata": {},
   "outputs": [],
   "source": [
    "# combine image_predictions dataframe with df_clean_archive df\n",
    "master_df = pd.merge(df_clean_archive, image_predictions, on=['tweet_id'], how='left')"
   ]
  },
  {
   "cell_type": "code",
   "execution_count": 86,
   "metadata": {},
   "outputs": [
    {
     "name": "stdout",
     "output_type": "stream",
     "text": [
      "<class 'pandas.core.frame.DataFrame'>\n",
      "Int64Index: 2057 entries, 0 to 2056\n",
      "Data columns (total 22 columns):\n",
      "tweet_id                 2057 non-null int64\n",
      "in_reply_to_status_id    2057 non-null int64\n",
      "in_reply_to_user_id      2057 non-null int64\n",
      "timestamp                2057 non-null datetime64[ns]\n",
      "source                   2057 non-null category\n",
      "text                     2057 non-null object\n",
      "expanded_urls            2057 non-null object\n",
      "rating_numerator         2057 non-null int64\n",
      "rating_denominator       2057 non-null int64\n",
      "name                     2057 non-null object\n",
      "dog_stage                2057 non-null category\n",
      "dog_breed                2057 non-null category\n",
      "img_num                  2057 non-null int64\n",
      "p1                       2057 non-null object\n",
      "p1_conf                  2057 non-null float64\n",
      "p1_dog                   2057 non-null bool\n",
      "p2                       2057 non-null object\n",
      "p2_conf                  2057 non-null float64\n",
      "p2_dog                   2057 non-null bool\n",
      "p3                       2057 non-null object\n",
      "p3_conf                  2057 non-null float64\n",
      "p3_dog                   2057 non-null bool\n",
      "dtypes: bool(3), category(3), datetime64[ns](1), float64(3), int64(6), object(6)\n",
      "memory usage: 291.4+ KB\n"
     ]
    }
   ],
   "source": [
    "# View properties\n",
    "master_df.info()"
   ]
  },
  {
   "cell_type": "code",
   "execution_count": 87,
   "metadata": {},
   "outputs": [],
   "source": [
    "master_df = pd.merge(master_df, tweet_count_clean, on=['tweet_id'], how='left')"
   ]
  },
  {
   "cell_type": "code",
   "execution_count": 88,
   "metadata": {
    "scrolled": false
   },
   "outputs": [
    {
     "name": "stdout",
     "output_type": "stream",
     "text": [
      "<class 'pandas.core.frame.DataFrame'>\n",
      "Int64Index: 2057 entries, 0 to 2056\n",
      "Data columns (total 24 columns):\n",
      "tweet_id                 2057 non-null int64\n",
      "in_reply_to_status_id    2057 non-null int64\n",
      "in_reply_to_user_id      2057 non-null int64\n",
      "timestamp                2057 non-null datetime64[ns]\n",
      "source                   2057 non-null category\n",
      "text                     2057 non-null object\n",
      "expanded_urls            2057 non-null object\n",
      "rating_numerator         2057 non-null int64\n",
      "rating_denominator       2057 non-null int64\n",
      "name                     2057 non-null object\n",
      "dog_stage                2057 non-null category\n",
      "dog_breed                2057 non-null category\n",
      "img_num                  2057 non-null int64\n",
      "p1                       2057 non-null object\n",
      "p1_conf                  2057 non-null float64\n",
      "p1_dog                   2057 non-null bool\n",
      "p2                       2057 non-null object\n",
      "p2_conf                  2057 non-null float64\n",
      "p2_dog                   2057 non-null bool\n",
      "p3                       2057 non-null object\n",
      "p3_conf                  2057 non-null float64\n",
      "p3_dog                   2057 non-null bool\n",
      "retweet_count            2041 non-null float64\n",
      "favorite_count           2041 non-null float64\n",
      "dtypes: bool(3), category(3), datetime64[ns](1), float64(5), int64(6), object(6)\n",
      "memory usage: 323.6+ KB\n"
     ]
    }
   ],
   "source": [
    "master_df.info()"
   ]
  },
  {
   "cell_type": "markdown",
   "metadata": {},
   "source": [
    "### Define\n",
    "- After merging the tweet_count_clean dataframe to the master_df_clean dataframe, there are some missing values in the `retweet_count` and `favorite_count` columns. \n",
    "- I decided to drop the rows with missing values in these columns.\n",
    "- I will convert the `retweet_count` and `favorite_count` columns from float data type to integer. "
   ]
  },
  {
   "cell_type": "markdown",
   "metadata": {},
   "source": [
    "### Code"
   ]
  },
  {
   "cell_type": "code",
   "execution_count": 89,
   "metadata": {},
   "outputs": [],
   "source": [
    "# Drop rows with missing values\n",
    "master_df.dropna(inplace=True)"
   ]
  },
  {
   "cell_type": "code",
   "execution_count": 90,
   "metadata": {},
   "outputs": [],
   "source": [
    "# Convert retweet_count and favorite_count columns to int\n",
    "master_df[['retweet_count', 'favorite_count']] = master_df[['retweet_count', 'favorite_count']].astype(int)"
   ]
  },
  {
   "cell_type": "markdown",
   "metadata": {},
   "source": [
    "### Test"
   ]
  },
  {
   "cell_type": "code",
   "execution_count": 91,
   "metadata": {},
   "outputs": [
    {
     "name": "stdout",
     "output_type": "stream",
     "text": [
      "<class 'pandas.core.frame.DataFrame'>\n",
      "Int64Index: 2041 entries, 0 to 2056\n",
      "Data columns (total 24 columns):\n",
      "tweet_id                 2041 non-null int64\n",
      "in_reply_to_status_id    2041 non-null int64\n",
      "in_reply_to_user_id      2041 non-null int64\n",
      "timestamp                2041 non-null datetime64[ns]\n",
      "source                   2041 non-null category\n",
      "text                     2041 non-null object\n",
      "expanded_urls            2041 non-null object\n",
      "rating_numerator         2041 non-null int64\n",
      "rating_denominator       2041 non-null int64\n",
      "name                     2041 non-null object\n",
      "dog_stage                2041 non-null category\n",
      "dog_breed                2041 non-null category\n",
      "img_num                  2041 non-null int64\n",
      "p1                       2041 non-null object\n",
      "p1_conf                  2041 non-null float64\n",
      "p1_dog                   2041 non-null bool\n",
      "p2                       2041 non-null object\n",
      "p2_conf                  2041 non-null float64\n",
      "p2_dog                   2041 non-null bool\n",
      "p3                       2041 non-null object\n",
      "p3_conf                  2041 non-null float64\n",
      "p3_dog                   2041 non-null bool\n",
      "retweet_count            2041 non-null int64\n",
      "favorite_count           2041 non-null int64\n",
      "dtypes: bool(3), category(3), datetime64[ns](1), float64(3), int64(8), object(6)\n",
      "memory usage: 321.1+ KB\n"
     ]
    }
   ],
   "source": [
    "master_df.info()"
   ]
  },
  {
   "cell_type": "markdown",
   "metadata": {},
   "source": [
    "## Saving Data to `csv`"
   ]
  },
  {
   "cell_type": "code",
   "execution_count": 92,
   "metadata": {},
   "outputs": [],
   "source": [
    "master_df.to_csv('twitter_archive_master.csv')"
   ]
  },
  {
   "cell_type": "markdown",
   "metadata": {},
   "source": [
    "## Data Analysis"
   ]
  },
  {
   "cell_type": "code",
   "execution_count": 93,
   "metadata": {},
   "outputs": [],
   "source": [
    "# Make a copy of master_df_clean datatframe\n",
    "df = master_df.copy()"
   ]
  },
  {
   "cell_type": "code",
   "execution_count": 94,
   "metadata": {},
   "outputs": [
    {
     "data": {
      "text/html": [
       "<div>\n",
       "<style scoped>\n",
       "    .dataframe tbody tr th:only-of-type {\n",
       "        vertical-align: middle;\n",
       "    }\n",
       "\n",
       "    .dataframe tbody tr th {\n",
       "        vertical-align: top;\n",
       "    }\n",
       "\n",
       "    .dataframe thead th {\n",
       "        text-align: right;\n",
       "    }\n",
       "</style>\n",
       "<table border=\"1\" class=\"dataframe\">\n",
       "  <thead>\n",
       "    <tr style=\"text-align: right;\">\n",
       "      <th></th>\n",
       "      <th>tweet_id</th>\n",
       "      <th>in_reply_to_status_id</th>\n",
       "      <th>in_reply_to_user_id</th>\n",
       "      <th>timestamp</th>\n",
       "      <th>source</th>\n",
       "      <th>text</th>\n",
       "      <th>expanded_urls</th>\n",
       "      <th>rating_numerator</th>\n",
       "      <th>rating_denominator</th>\n",
       "      <th>name</th>\n",
       "      <th>...</th>\n",
       "      <th>p1_conf</th>\n",
       "      <th>p1_dog</th>\n",
       "      <th>p2</th>\n",
       "      <th>p2_conf</th>\n",
       "      <th>p2_dog</th>\n",
       "      <th>p3</th>\n",
       "      <th>p3_conf</th>\n",
       "      <th>p3_dog</th>\n",
       "      <th>retweet_count</th>\n",
       "      <th>favorite_count</th>\n",
       "    </tr>\n",
       "  </thead>\n",
       "  <tbody>\n",
       "    <tr>\n",
       "      <th>0</th>\n",
       "      <td>892420643555336193</td>\n",
       "      <td>0</td>\n",
       "      <td>0</td>\n",
       "      <td>2017-08-01 16:23:56</td>\n",
       "      <td>Twitter for iPhone</td>\n",
       "      <td>This is Phineas. He's a mystical boy. Only eve...</td>\n",
       "      <td>https://twitter.com/dog_rates/status/892420643...</td>\n",
       "      <td>13</td>\n",
       "      <td>10</td>\n",
       "      <td>Phineas</td>\n",
       "      <td>...</td>\n",
       "      <td>0.097049</td>\n",
       "      <td>False</td>\n",
       "      <td>bagel</td>\n",
       "      <td>0.085851</td>\n",
       "      <td>False</td>\n",
       "      <td>banana</td>\n",
       "      <td>0.076110</td>\n",
       "      <td>False</td>\n",
       "      <td>7795</td>\n",
       "      <td>36603</td>\n",
       "    </tr>\n",
       "    <tr>\n",
       "      <th>1</th>\n",
       "      <td>892177421306343426</td>\n",
       "      <td>0</td>\n",
       "      <td>0</td>\n",
       "      <td>2017-08-01 00:17:27</td>\n",
       "      <td>Twitter for iPhone</td>\n",
       "      <td>This is Tilly. She's just checking pup on you....</td>\n",
       "      <td>https://twitter.com/dog_rates/status/892177421...</td>\n",
       "      <td>13</td>\n",
       "      <td>10</td>\n",
       "      <td>Tilly</td>\n",
       "      <td>...</td>\n",
       "      <td>0.323581</td>\n",
       "      <td>True</td>\n",
       "      <td>Pekinese</td>\n",
       "      <td>0.090647</td>\n",
       "      <td>True</td>\n",
       "      <td>papillon</td>\n",
       "      <td>0.068957</td>\n",
       "      <td>True</td>\n",
       "      <td>5774</td>\n",
       "      <td>31542</td>\n",
       "    </tr>\n",
       "    <tr>\n",
       "      <th>2</th>\n",
       "      <td>891815181378084864</td>\n",
       "      <td>0</td>\n",
       "      <td>0</td>\n",
       "      <td>2017-07-31 00:18:03</td>\n",
       "      <td>Twitter for iPhone</td>\n",
       "      <td>This is Archie. He is a rare Norwegian Pouncin...</td>\n",
       "      <td>https://twitter.com/dog_rates/status/891815181...</td>\n",
       "      <td>12</td>\n",
       "      <td>10</td>\n",
       "      <td>Archie</td>\n",
       "      <td>...</td>\n",
       "      <td>0.716012</td>\n",
       "      <td>True</td>\n",
       "      <td>malamute</td>\n",
       "      <td>0.078253</td>\n",
       "      <td>True</td>\n",
       "      <td>kelpie</td>\n",
       "      <td>0.031379</td>\n",
       "      <td>True</td>\n",
       "      <td>3822</td>\n",
       "      <td>23761</td>\n",
       "    </tr>\n",
       "    <tr>\n",
       "      <th>3</th>\n",
       "      <td>891689557279858688</td>\n",
       "      <td>0</td>\n",
       "      <td>0</td>\n",
       "      <td>2017-07-30 15:58:51</td>\n",
       "      <td>Twitter for iPhone</td>\n",
       "      <td>This is Darla. She commenced a snooze mid meal...</td>\n",
       "      <td>https://twitter.com/dog_rates/status/891689557...</td>\n",
       "      <td>13</td>\n",
       "      <td>10</td>\n",
       "      <td>Darla</td>\n",
       "      <td>...</td>\n",
       "      <td>0.170278</td>\n",
       "      <td>False</td>\n",
       "      <td>Labrador_retriever</td>\n",
       "      <td>0.168086</td>\n",
       "      <td>True</td>\n",
       "      <td>spatula</td>\n",
       "      <td>0.040836</td>\n",
       "      <td>False</td>\n",
       "      <td>7964</td>\n",
       "      <td>39937</td>\n",
       "    </tr>\n",
       "    <tr>\n",
       "      <th>4</th>\n",
       "      <td>891327558926688256</td>\n",
       "      <td>0</td>\n",
       "      <td>0</td>\n",
       "      <td>2017-07-29 16:00:24</td>\n",
       "      <td>Twitter for iPhone</td>\n",
       "      <td>This is Franklin. He would like you to stop ca...</td>\n",
       "      <td>https://twitter.com/dog_rates/status/891327558...</td>\n",
       "      <td>12</td>\n",
       "      <td>10</td>\n",
       "      <td>Franklin</td>\n",
       "      <td>...</td>\n",
       "      <td>0.555712</td>\n",
       "      <td>True</td>\n",
       "      <td>English_springer</td>\n",
       "      <td>0.225770</td>\n",
       "      <td>True</td>\n",
       "      <td>German_short-haired_pointer</td>\n",
       "      <td>0.175219</td>\n",
       "      <td>True</td>\n",
       "      <td>8603</td>\n",
       "      <td>38136</td>\n",
       "    </tr>\n",
       "  </tbody>\n",
       "</table>\n",
       "<p>5 rows × 24 columns</p>\n",
       "</div>"
      ],
      "text/plain": [
       "             tweet_id  in_reply_to_status_id  in_reply_to_user_id  \\\n",
       "0  892420643555336193                      0                    0   \n",
       "1  892177421306343426                      0                    0   \n",
       "2  891815181378084864                      0                    0   \n",
       "3  891689557279858688                      0                    0   \n",
       "4  891327558926688256                      0                    0   \n",
       "\n",
       "            timestamp              source  \\\n",
       "0 2017-08-01 16:23:56  Twitter for iPhone   \n",
       "1 2017-08-01 00:17:27  Twitter for iPhone   \n",
       "2 2017-07-31 00:18:03  Twitter for iPhone   \n",
       "3 2017-07-30 15:58:51  Twitter for iPhone   \n",
       "4 2017-07-29 16:00:24  Twitter for iPhone   \n",
       "\n",
       "                                                text  \\\n",
       "0  This is Phineas. He's a mystical boy. Only eve...   \n",
       "1  This is Tilly. She's just checking pup on you....   \n",
       "2  This is Archie. He is a rare Norwegian Pouncin...   \n",
       "3  This is Darla. She commenced a snooze mid meal...   \n",
       "4  This is Franklin. He would like you to stop ca...   \n",
       "\n",
       "                                       expanded_urls  rating_numerator  \\\n",
       "0  https://twitter.com/dog_rates/status/892420643...                13   \n",
       "1  https://twitter.com/dog_rates/status/892177421...                13   \n",
       "2  https://twitter.com/dog_rates/status/891815181...                12   \n",
       "3  https://twitter.com/dog_rates/status/891689557...                13   \n",
       "4  https://twitter.com/dog_rates/status/891327558...                12   \n",
       "\n",
       "   rating_denominator      name      ...         p1_conf p1_dog  \\\n",
       "0                  10   Phineas      ...        0.097049  False   \n",
       "1                  10     Tilly      ...        0.323581   True   \n",
       "2                  10    Archie      ...        0.716012   True   \n",
       "3                  10     Darla      ...        0.170278  False   \n",
       "4                  10  Franklin      ...        0.555712   True   \n",
       "\n",
       "                   p2   p2_conf  p2_dog                           p3  \\\n",
       "0               bagel  0.085851   False                       banana   \n",
       "1            Pekinese  0.090647    True                     papillon   \n",
       "2            malamute  0.078253    True                       kelpie   \n",
       "3  Labrador_retriever  0.168086    True                      spatula   \n",
       "4    English_springer  0.225770    True  German_short-haired_pointer   \n",
       "\n",
       "    p3_conf  p3_dog  retweet_count favorite_count  \n",
       "0  0.076110   False           7795          36603  \n",
       "1  0.068957    True           5774          31542  \n",
       "2  0.031379    True           3822          23761  \n",
       "3  0.040836   False           7964          39937  \n",
       "4  0.175219    True           8603          38136  \n",
       "\n",
       "[5 rows x 24 columns]"
      ]
     },
     "execution_count": 94,
     "metadata": {},
     "output_type": "execute_result"
    }
   ],
   "source": [
    "# View first five rows\n",
    "df.head()"
   ]
  },
  {
   "cell_type": "code",
   "execution_count": 95,
   "metadata": {},
   "outputs": [
    {
     "name": "stdout",
     "output_type": "stream",
     "text": [
      "<class 'pandas.core.frame.DataFrame'>\n",
      "Int64Index: 2041 entries, 0 to 2056\n",
      "Data columns (total 24 columns):\n",
      "tweet_id                 2041 non-null int64\n",
      "in_reply_to_status_id    2041 non-null int64\n",
      "in_reply_to_user_id      2041 non-null int64\n",
      "timestamp                2041 non-null datetime64[ns]\n",
      "source                   2041 non-null category\n",
      "text                     2041 non-null object\n",
      "expanded_urls            2041 non-null object\n",
      "rating_numerator         2041 non-null int64\n",
      "rating_denominator       2041 non-null int64\n",
      "name                     2041 non-null object\n",
      "dog_stage                2041 non-null category\n",
      "dog_breed                2041 non-null category\n",
      "img_num                  2041 non-null int64\n",
      "p1                       2041 non-null object\n",
      "p1_conf                  2041 non-null float64\n",
      "p1_dog                   2041 non-null bool\n",
      "p2                       2041 non-null object\n",
      "p2_conf                  2041 non-null float64\n",
      "p2_dog                   2041 non-null bool\n",
      "p3                       2041 non-null object\n",
      "p3_conf                  2041 non-null float64\n",
      "p3_dog                   2041 non-null bool\n",
      "retweet_count            2041 non-null int64\n",
      "favorite_count           2041 non-null int64\n",
      "dtypes: bool(3), category(3), datetime64[ns](1), float64(3), int64(8), object(6)\n",
      "memory usage: 321.1+ KB\n"
     ]
    }
   ],
   "source": [
    "# View dataframe properties\n",
    "df.info()"
   ]
  },
  {
   "cell_type": "code",
   "execution_count": 96,
   "metadata": {},
   "outputs": [
    {
     "data": {
      "text/html": [
       "<div>\n",
       "<style scoped>\n",
       "    .dataframe tbody tr th:only-of-type {\n",
       "        vertical-align: middle;\n",
       "    }\n",
       "\n",
       "    .dataframe tbody tr th {\n",
       "        vertical-align: top;\n",
       "    }\n",
       "\n",
       "    .dataframe thead th {\n",
       "        text-align: right;\n",
       "    }\n",
       "</style>\n",
       "<table border=\"1\" class=\"dataframe\">\n",
       "  <thead>\n",
       "    <tr style=\"text-align: right;\">\n",
       "      <th></th>\n",
       "      <th>tweet_id</th>\n",
       "      <th>in_reply_to_status_id</th>\n",
       "      <th>in_reply_to_user_id</th>\n",
       "      <th>rating_numerator</th>\n",
       "      <th>rating_denominator</th>\n",
       "      <th>img_num</th>\n",
       "      <th>p1_conf</th>\n",
       "      <th>p2_conf</th>\n",
       "      <th>p3_conf</th>\n",
       "      <th>retweet_count</th>\n",
       "      <th>favorite_count</th>\n",
       "    </tr>\n",
       "  </thead>\n",
       "  <tbody>\n",
       "    <tr>\n",
       "      <th>count</th>\n",
       "      <td>2.041000e+03</td>\n",
       "      <td>2.041000e+03</td>\n",
       "      <td>2.041000e+03</td>\n",
       "      <td>2041.000000</td>\n",
       "      <td>2041.0</td>\n",
       "      <td>2041.000000</td>\n",
       "      <td>2041.000000</td>\n",
       "      <td>2.041000e+03</td>\n",
       "      <td>2.041000e+03</td>\n",
       "      <td>2041.000000</td>\n",
       "      <td>2041.000000</td>\n",
       "    </tr>\n",
       "    <tr>\n",
       "      <th>mean</th>\n",
       "      <td>7.380175e+17</td>\n",
       "      <td>7.528385e+15</td>\n",
       "      <td>4.523941e+07</td>\n",
       "      <td>11.699657</td>\n",
       "      <td>10.0</td>\n",
       "      <td>1.203822</td>\n",
       "      <td>0.593893</td>\n",
       "      <td>1.350865e-01</td>\n",
       "      <td>6.038261e-02</td>\n",
       "      <td>2618.300343</td>\n",
       "      <td>8084.135718</td>\n",
       "    </tr>\n",
       "    <tr>\n",
       "      <th>std</th>\n",
       "      <td>6.773821e+16</td>\n",
       "      <td>7.227942e+16</td>\n",
       "      <td>4.334911e+08</td>\n",
       "      <td>40.195947</td>\n",
       "      <td>0.0</td>\n",
       "      <td>0.563258</td>\n",
       "      <td>0.271282</td>\n",
       "      <td>1.008097e-01</td>\n",
       "      <td>5.087169e-02</td>\n",
       "      <td>4574.661877</td>\n",
       "      <td>12209.281521</td>\n",
       "    </tr>\n",
       "    <tr>\n",
       "      <th>min</th>\n",
       "      <td>6.660209e+17</td>\n",
       "      <td>0.000000e+00</td>\n",
       "      <td>0.000000e+00</td>\n",
       "      <td>0.000000</td>\n",
       "      <td>10.0</td>\n",
       "      <td>1.000000</td>\n",
       "      <td>0.044333</td>\n",
       "      <td>1.011300e-08</td>\n",
       "      <td>1.740170e-10</td>\n",
       "      <td>11.000000</td>\n",
       "      <td>0.000000</td>\n",
       "    </tr>\n",
       "    <tr>\n",
       "      <th>25%</th>\n",
       "      <td>6.762159e+17</td>\n",
       "      <td>0.000000e+00</td>\n",
       "      <td>0.000000e+00</td>\n",
       "      <td>10.000000</td>\n",
       "      <td>10.0</td>\n",
       "      <td>1.000000</td>\n",
       "      <td>0.363257</td>\n",
       "      <td>5.413540e-02</td>\n",
       "      <td>1.619070e-02</td>\n",
       "      <td>559.000000</td>\n",
       "      <td>1530.000000</td>\n",
       "    </tr>\n",
       "    <tr>\n",
       "      <th>50%</th>\n",
       "      <td>7.113638e+17</td>\n",
       "      <td>0.000000e+00</td>\n",
       "      <td>0.000000e+00</td>\n",
       "      <td>11.000000</td>\n",
       "      <td>10.0</td>\n",
       "      <td>1.000000</td>\n",
       "      <td>0.587507</td>\n",
       "      <td>1.192430e-01</td>\n",
       "      <td>4.952370e-02</td>\n",
       "      <td>1240.000000</td>\n",
       "      <td>3571.000000</td>\n",
       "    </tr>\n",
       "    <tr>\n",
       "      <th>75%</th>\n",
       "      <td>7.931355e+17</td>\n",
       "      <td>0.000000e+00</td>\n",
       "      <td>0.000000e+00</td>\n",
       "      <td>12.000000</td>\n",
       "      <td>10.0</td>\n",
       "      <td>1.000000</td>\n",
       "      <td>0.843799</td>\n",
       "      <td>1.964140e-01</td>\n",
       "      <td>9.248170e-02</td>\n",
       "      <td>3014.000000</td>\n",
       "      <td>10107.000000</td>\n",
       "    </tr>\n",
       "    <tr>\n",
       "      <th>max</th>\n",
       "      <td>8.924206e+17</td>\n",
       "      <td>8.558181e+17</td>\n",
       "      <td>4.196984e+09</td>\n",
       "      <td>1776.000000</td>\n",
       "      <td>10.0</td>\n",
       "      <td>4.000000</td>\n",
       "      <td>1.000000</td>\n",
       "      <td>4.880140e-01</td>\n",
       "      <td>2.710420e-01</td>\n",
       "      <td>78811.000000</td>\n",
       "      <td>158176.000000</td>\n",
       "    </tr>\n",
       "  </tbody>\n",
       "</table>\n",
       "</div>"
      ],
      "text/plain": [
       "           tweet_id  in_reply_to_status_id  in_reply_to_user_id  \\\n",
       "count  2.041000e+03           2.041000e+03         2.041000e+03   \n",
       "mean   7.380175e+17           7.528385e+15         4.523941e+07   \n",
       "std    6.773821e+16           7.227942e+16         4.334911e+08   \n",
       "min    6.660209e+17           0.000000e+00         0.000000e+00   \n",
       "25%    6.762159e+17           0.000000e+00         0.000000e+00   \n",
       "50%    7.113638e+17           0.000000e+00         0.000000e+00   \n",
       "75%    7.931355e+17           0.000000e+00         0.000000e+00   \n",
       "max    8.924206e+17           8.558181e+17         4.196984e+09   \n",
       "\n",
       "       rating_numerator  rating_denominator      img_num      p1_conf  \\\n",
       "count       2041.000000              2041.0  2041.000000  2041.000000   \n",
       "mean          11.699657                10.0     1.203822     0.593893   \n",
       "std           40.195947                 0.0     0.563258     0.271282   \n",
       "min            0.000000                10.0     1.000000     0.044333   \n",
       "25%           10.000000                10.0     1.000000     0.363257   \n",
       "50%           11.000000                10.0     1.000000     0.587507   \n",
       "75%           12.000000                10.0     1.000000     0.843799   \n",
       "max         1776.000000                10.0     4.000000     1.000000   \n",
       "\n",
       "            p2_conf       p3_conf  retweet_count  favorite_count  \n",
       "count  2.041000e+03  2.041000e+03    2041.000000     2041.000000  \n",
       "mean   1.350865e-01  6.038261e-02    2618.300343     8084.135718  \n",
       "std    1.008097e-01  5.087169e-02    4574.661877    12209.281521  \n",
       "min    1.011300e-08  1.740170e-10      11.000000        0.000000  \n",
       "25%    5.413540e-02  1.619070e-02     559.000000     1530.000000  \n",
       "50%    1.192430e-01  4.952370e-02    1240.000000     3571.000000  \n",
       "75%    1.964140e-01  9.248170e-02    3014.000000    10107.000000  \n",
       "max    4.880140e-01  2.710420e-01   78811.000000   158176.000000  "
      ]
     },
     "execution_count": 96,
     "metadata": {},
     "output_type": "execute_result"
    }
   ],
   "source": [
    "# View descriptive statistics\n",
    "df.describe()"
   ]
  },
  {
   "cell_type": "markdown",
   "metadata": {},
   "source": [
    "### Analysis of the sources of tweets"
   ]
  },
  {
   "cell_type": "code",
   "execution_count": 97,
   "metadata": {},
   "outputs": [
    {
     "data": {
      "text/plain": [
       "Twitter for iPhone    2001\n",
       "Twitter Web Client      30\n",
       "TweetDeck               10\n",
       "Name: source, dtype: int64"
      ]
     },
     "execution_count": 97,
     "metadata": {},
     "output_type": "execute_result"
    }
   ],
   "source": [
    "# View value_counts for source column\n",
    "df.source.value_counts()"
   ]
  },
  {
   "cell_type": "code",
   "execution_count": 98,
   "metadata": {},
   "outputs": [
    {
     "data": {
      "image/png": "[encoded data removed]",
      "text/plain": [
       "<matplotlib.figure.Figure at 0x7f46207f60b8>"
      ]
     },
     "metadata": {
      "needs_background": "light"
     },
     "output_type": "display_data"
    }
   ],
   "source": [
    "# Plot bar chart\n",
    "df['source'].value_counts().plot(kind='bar')\n",
    "plt.title('Distribution of the source of the tweets')\n",
    "plt.savefig('Distribution of the source of tweets')"
   ]
  },
  {
   "cell_type": "code",
   "execution_count": 99,
   "metadata": {},
   "outputs": [
    {
     "data": {
      "text/plain": [
       "source\n",
       "TweetDeck             1840.500000\n",
       "Twitter Web Client    2162.866667\n",
       "Twitter for iPhone    2629.015492\n",
       "Name: retweet_count, dtype: float64"
      ]
     },
     "execution_count": 99,
     "metadata": {},
     "output_type": "execute_result"
    }
   ],
   "source": [
    "df.groupby('source')['retweet_count'].mean()"
   ]
  },
  {
   "cell_type": "code",
   "execution_count": 100,
   "metadata": {},
   "outputs": [
    {
     "data": {
      "text/plain": [
       "source\n",
       "TweetDeck             4209.500000\n",
       "Twitter Web Client    5226.866667\n",
       "Twitter for iPhone    8146.336832\n",
       "Name: favorite_count, dtype: float64"
      ]
     },
     "execution_count": 100,
     "metadata": {},
     "output_type": "execute_result"
    }
   ],
   "source": [
    "df.groupby('source')['favorite_count'].mean()"
   ]
  },
  {
   "cell_type": "markdown",
   "metadata": {},
   "source": [
    "### Analysis of the various stages"
   ]
  },
  {
   "cell_type": "code",
   "execution_count": 101,
   "metadata": {},
   "outputs": [
    {
     "data": {
      "text/plain": [
       "None       1723\n",
       "pupper      221\n",
       "doggo        65\n",
       "puppo        24\n",
       "floofer       8\n",
       "Name: dog_stage, dtype: int64"
      ]
     },
     "execution_count": 101,
     "metadata": {},
     "output_type": "execute_result"
    }
   ],
   "source": [
    "# View value counts of the dog stages\n",
    "df['dog_stage'].value_counts()"
   ]
  },
  {
   "cell_type": "code",
   "execution_count": 102,
   "metadata": {},
   "outputs": [
    {
     "data": {
      "image/png": "[encoded data removed]",
      "text/plain": [
       "<matplotlib.figure.Figure at 0x7f461e7326a0>"
      ]
     },
     "metadata": {
      "needs_background": "light"
     },
     "output_type": "display_data"
    },
    {
     "data": {
      "text/plain": [
       "<matplotlib.figure.Figure at 0x7f461e75ea90>"
      ]
     },
     "metadata": {},
     "output_type": "display_data"
    }
   ],
   "source": [
    "# Plot bar chart\n",
    "dog_stage = ['Pupper', 'Doggo', 'Puppo', 'Floofer']\n",
    "counts  = [221, 65, 24, 8]\n",
    "\n",
    "fig,ax = plt.subplots(figsize = (10,10))\n",
    "ax.bar(dog_stage, counts, width = 0.6)\n",
    "ax.set_ylabel('Counts')\n",
    "ax.set_xlabel('Stages')\n",
    "plt.title(\"Classification of dog by stages\")\n",
    "plt.show()\n",
    "plt.savefig(\"Classification of dog by stages\")"
   ]
  },
  {
   "cell_type": "markdown",
   "metadata": {},
   "source": [
    "### Analysis of the breed of dogs"
   ]
  },
  {
   "cell_type": "code",
   "execution_count": 103,
   "metadata": {},
   "outputs": [
    {
     "data": {
      "text/plain": [
       "None                          536\n",
       "golden_retriever              146\n",
       "Labrador_retriever             94\n",
       "Pembroke                       88\n",
       "Chihuahua                      81\n",
       "pug                            57\n",
       "chow                           44\n",
       "Samoyed                        42\n",
       "toy_poodle                     38\n",
       "Pomeranian                     38\n",
       "cocker_spaniel                 30\n",
       "malamute                       30\n",
       "French_bulldog                 25\n",
       "miniature_pinscher             23\n",
       "Chesapeake_Bay_retriever       23\n",
       "German_shepherd                20\n",
       "Cardigan                       19\n",
       "Siberian_husky                 19\n",
       "Shetland_sheepdog              18\n",
       "beagle                         18\n",
       "Staffordshire_bullterrier      18\n",
       "Eskimo_dog                     18\n",
       "Rottweiler                     17\n",
       "Lakeland_terrier               17\n",
       "Maltese_dog                    17\n",
       "Shih-Tzu                       17\n",
       "Italian_greyhound              16\n",
       "kuvasz                         16\n",
       "Pekinese                       13\n",
       "Great_Pyrenees                 13\n",
       "                             ... \n",
       "Saluki                          4\n",
       "keeshond                        4\n",
       "Tibetan_terrier                 4\n",
       "Weimaraner                      4\n",
       "bluetick                        4\n",
       "Leonberg                        3\n",
       "cairn                           3\n",
       "komondor                        3\n",
       "giant_schnauzer                 3\n",
       "curly-coated_retriever          3\n",
       "Welsh_springer_spaniel          3\n",
       "briard                          3\n",
       "Irish_water_spaniel             3\n",
       "Scottish_deerhound              3\n",
       "Greater_Swiss_Mountain_dog      3\n",
       "Ibizan_hound                    3\n",
       "Brabancon_griffon               3\n",
       "Australian_terrier              2\n",
       "Appenzeller                     2\n",
       "wire-haired_fox_terrier         2\n",
       "Sussex_spaniel                  2\n",
       "black-and-tan_coonhound         2\n",
       "toy_terrier                     2\n",
       "EntleBucher                     1\n",
       "Japanese_spaniel                1\n",
       "clumber                         1\n",
       "groenendael                     1\n",
       "silky_terrier                   1\n",
       "standard_schnauzer              1\n",
       "Scotch_terrier                  1\n",
       "Name: dog_breed, Length: 112, dtype: int64"
      ]
     },
     "execution_count": 103,
     "metadata": {},
     "output_type": "execute_result"
    }
   ],
   "source": [
    "# View the value counts of the dog breeds\n",
    "df['dog_breed'].value_counts()"
   ]
  },
  {
   "cell_type": "markdown",
   "metadata": {},
   "source": [
    "### Insight\n",
    "- The value count of the `dog_breed` column shows that the breed 539 dogs was not recorded. The golden retriver breed has the highest count of 146, the labrador retriever breed has a count of 94, the Pembroke breed has a count of 88, pugs have a count of 57, while the breeds with the least counts are EntleBucher, Japanese_spaniel, Clumber, Groenendael, Silky terrier, Standard schnauzer, and Scotch terrier."
   ]
  },
  {
   "cell_type": "markdown",
   "metadata": {},
   "source": [
    "### Average Retweet for each dog breed"
   ]
  },
  {
   "cell_type": "code",
   "execution_count": 104,
   "metadata": {},
   "outputs": [
    {
     "data": {
      "text/plain": [
       "dog_breed\n",
       "standard_poodle                9942.875000\n",
       "Afghan_hound                   6350.000000\n",
       "English_springer               5007.900000\n",
       "Eskimo_dog                     4883.222222\n",
       "Tibetan_mastiff                4715.800000\n",
       "Saluki                         4568.000000\n",
       "Cardigan                       4541.052632\n",
       "Great_Pyrenees                 4431.076923\n",
       "French_bulldog                 4338.640000\n",
       "Samoyed                        4304.619048\n",
       "Lakeland_terrier               4291.235294\n",
       "flat-coated_retriever          4071.250000\n",
       "Irish_water_spaniel            4005.666667\n",
       "black-and-tan_coonhound        3680.000000\n",
       "Labrador_retriever             3664.287234\n",
       "cocker_spaniel                 3640.033333\n",
       "golden_retriever               3483.568493\n",
       "Norwegian_elkhound             3465.000000\n",
       "Mexican_hairless               3448.000000\n",
       "Leonberg                       3427.333333\n",
       "giant_schnauzer                3396.333333\n",
       "Border_terrier                 3026.142857\n",
       "Irish_setter                   2938.333333\n",
       "basset                         2895.076923\n",
       "Pembroke                       2859.681818\n",
       "Australian_terrier             2762.500000\n",
       "Chihuahua                      2747.753086\n",
       "chow                           2684.545455\n",
       "briard                         2639.333333\n",
       "wire-haired_fox_terrier        2617.500000\n",
       "                                  ...     \n",
       "Yorkshire_terrier              1302.750000\n",
       "German_short-haired_pointer    1300.428571\n",
       "beagle                         1300.222222\n",
       "Appenzeller                    1284.000000\n",
       "Airedale                       1240.750000\n",
       "West_Highland_white_terrier    1238.923077\n",
       "Maltese_dog                    1173.117647\n",
       "Scotch_terrier                 1113.000000\n",
       "Sussex_spaniel                 1104.500000\n",
       "curly-coated_retriever         1087.333333\n",
       "malinois                       1079.777778\n",
       "cairn                          1043.333333\n",
       "toy_terrier                    1029.500000\n",
       "redbone                         988.166667\n",
       "miniature_schnauzer             978.000000\n",
       "Dandie_Dinmont                  914.833333\n",
       "miniature_poodle                866.125000\n",
       "basenji                         841.571429\n",
       "standard_schnauzer              804.000000\n",
       "Lhasa                           734.000000\n",
       "Rhodesian_ridgeback             691.000000\n",
       "Scottish_deerhound              675.000000\n",
       "soft-coated_wheaten_terrier     667.666667\n",
       "EntleBucher                     623.000000\n",
       "Tibetan_terrier                 493.000000\n",
       "Welsh_springer_spaniel          456.666667\n",
       "Japanese_spaniel                402.000000\n",
       "Ibizan_hound                    379.000000\n",
       "groenendael                     373.000000\n",
       "Brabancon_griffon               257.000000\n",
       "Name: retweet_count, Length: 112, dtype: float64"
      ]
     },
     "execution_count": 104,
     "metadata": {},
     "output_type": "execute_result"
    }
   ],
   "source": [
    "# View the average retweet count of each dog breed\n",
    "df.groupby('dog_breed')['retweet_count'].mean().sort_values(ascending=False)"
   ]
  },
  {
   "cell_type": "markdown",
   "metadata": {},
   "source": [
    "### Insight\n",
    "- The top three breed with highest retweet counts are Standard poodle, Afghan hound, and English springer.\n",
    "- The breeds with the lowest amount of retweets are Ibizan hound, Groenendael, Brabancon griffon."
   ]
  },
  {
   "cell_type": "markdown",
   "metadata": {},
   "source": [
    "## Average favorite count for each dog breed"
   ]
  },
  {
   "cell_type": "code",
   "execution_count": 105,
   "metadata": {
    "scrolled": false
   },
   "outputs": [
    {
     "data": {
      "text/plain": [
       "dog_breed\n",
       "Saluki                         22441.500000\n",
       "French_bulldog                 17674.720000\n",
       "black-and-tan_coonhound        15816.000000\n",
       "flat-coated_retriever          15628.500000\n",
       "Irish_water_spaniel            15154.666667\n",
       "Leonberg                       13765.000000\n",
       "Eskimo_dog                     13717.555556\n",
       "English_springer               13085.400000\n",
       "standard_poodle                12881.125000\n",
       "basset                         12879.615385\n",
       "Cardigan                       12659.526316\n",
       "Border_terrier                 12602.571429\n",
       "Great_Pyrenees                 12584.000000\n",
       "Bedlington_terrier             12055.800000\n",
       "Lakeland_terrier               11970.882353\n",
       "Afghan_hound                   11968.250000\n",
       "Mexican_hairless               11726.750000\n",
       "Samoyed                        11552.547619\n",
       "giant_schnauzer                11455.666667\n",
       "Weimaraner                     11094.500000\n",
       "Pembroke                       10676.022727\n",
       "golden_retriever               10637.821918\n",
       "Labrador_retriever             10566.882979\n",
       "Australian_terrier             10301.500000\n",
       "bloodhound                     10249.857143\n",
       "Norwegian_elkhound              9979.750000\n",
       "Greater_Swiss_Mountain_dog      9794.000000\n",
       "Chesapeake_Bay_retriever        9778.913043\n",
       "cocker_spaniel                  9723.766667\n",
       "kelpie                          9407.727273\n",
       "                                   ...     \n",
       "keeshond                        4523.250000\n",
       "dalmatian                       4414.461538\n",
       "curly-coated_retriever          4264.000000\n",
       "toy_terrier                     4160.000000\n",
       "beagle                          4112.444444\n",
       "English_setter                  3912.250000\n",
       "malinois                        3827.333333\n",
       "miniature_schnauzer             3813.000000\n",
       "Rhodesian_ridgeback             3754.000000\n",
       "Sussex_spaniel                  3736.500000\n",
       "papillon                        3545.250000\n",
       "Shih-Tzu                        3532.588235\n",
       "Saint_Bernard                   3503.571429\n",
       "Scotch_terrier                  3304.000000\n",
       "miniature_poodle                3190.250000\n",
       "Dandie_Dinmont                  3182.333333\n",
       "redbone                         3024.833333\n",
       "Maltese_dog                     2888.941176\n",
       "Welsh_springer_spaniel          2525.000000\n",
       "basenji                         2476.571429\n",
       "EntleBucher                     2468.000000\n",
       "Lhasa                           2451.600000\n",
       "Scottish_deerhound              2271.000000\n",
       "soft-coated_wheaten_terrier     1871.555556\n",
       "standard_schnauzer              1865.000000\n",
       "groenendael                     1757.000000\n",
       "Tibetan_terrier                 1696.000000\n",
       "Japanese_spaniel                1239.000000\n",
       "Ibizan_hound                    1023.333333\n",
       "Brabancon_griffon                814.333333\n",
       "Name: favorite_count, Length: 112, dtype: float64"
      ]
     },
     "execution_count": 105,
     "metadata": {},
     "output_type": "execute_result"
    }
   ],
   "source": [
    "# View the average favorite count of each dog breed\n",
    "df.groupby('dog_breed')['favorite_count'].mean().sort_values(ascending=False)"
   ]
  },
  {
   "cell_type": "markdown",
   "metadata": {},
   "source": [
    "### Insight\n",
    "- The breeds favorited the most are Saluki, French bulldog, and Black and tan coonhound.\n",
    "- The breeds favorited the least are Japanese spaniel, Ibizan hound, Brabancon griffon."
   ]
  },
  {
   "cell_type": "markdown",
   "metadata": {},
   "source": [
    "### Average ratings for each dog breed"
   ]
  },
  {
   "cell_type": "code",
   "execution_count": 106,
   "metadata": {},
   "outputs": [
    {
     "data": {
      "text/plain": [
       "dog_breed\n",
       "clumber                        27.000000\n",
       "None                           13.636194\n",
       "Pomeranian                     12.868421\n",
       "Saluki                         12.500000\n",
       "Tibetan_mastiff                12.400000\n",
       "briard                         12.333333\n",
       "Border_terrier                 12.142857\n",
       "kuvasz                         12.062500\n",
       "silky_terrier                  12.000000\n",
       "standard_schnauzer             12.000000\n",
       "giant_schnauzer                12.000000\n",
       "Irish_setter                   11.833333\n",
       "Eskimo_dog                     11.777778\n",
       "Gordon_setter                  11.750000\n",
       "Samoyed                        11.738095\n",
       "chow                           11.636364\n",
       "golden_retriever               11.575342\n",
       "Cardigan                       11.526316\n",
       "wire-haired_fox_terrier        11.500000\n",
       "Australian_terrier             11.500000\n",
       "Great_Pyrenees                 11.461538\n",
       "kelpie                         11.454545\n",
       "Pembroke                       11.443182\n",
       "Norfolk_terrier                11.428571\n",
       "cocker_spaniel                 11.400000\n",
       "Greater_Swiss_Mountain_dog     11.333333\n",
       "Leonberg                       11.333333\n",
       "Irish_water_spaniel            11.333333\n",
       "Siberian_husky                 11.315789\n",
       "Rottweiler                     11.294118\n",
       "                                 ...    \n",
       "West_Highland_white_terrier    10.384615\n",
       "curly-coated_retriever         10.333333\n",
       "Scottish_deerhound             10.333333\n",
       "pug                            10.315789\n",
       "basenji                        10.285714\n",
       "keeshond                       10.250000\n",
       "Newfoundland                   10.200000\n",
       "Saint_Bernard                  10.142857\n",
       "papillon                       10.125000\n",
       "Bedlington_terrier             10.000000\n",
       "groenendael                    10.000000\n",
       "Brabancon_griffon              10.000000\n",
       "English_setter                 10.000000\n",
       "Italian_greyhound               9.937500\n",
       "miniature_poodle                9.875000\n",
       "Airedale                        9.833333\n",
       "Maltese_dog                     9.764706\n",
       "Rhodesian_ridgeback             9.750000\n",
       "redbone                         9.666667\n",
       "Boston_bull                     9.444444\n",
       "dalmatian                       9.384615\n",
       "Tibetan_terrier                 9.250000\n",
       "miniature_schnauzer             9.250000\n",
       "Norwich_terrier                 9.000000\n",
       "Welsh_springer_spaniel          9.000000\n",
       "Walker_hound                    9.000000\n",
       "Ibizan_hound                    9.000000\n",
       "Scotch_terrier                  9.000000\n",
       "soft-coated_wheaten_terrier     8.777778\n",
       "Japanese_spaniel                5.000000\n",
       "Name: rating_numerator, Length: 112, dtype: float64"
      ]
     },
     "execution_count": 106,
     "metadata": {},
     "output_type": "execute_result"
    }
   ],
   "source": [
    "# View the average rating numerator of each dog breed\n",
    "df.groupby('dog_breed')['rating_numerator'].mean().sort_values(ascending=False)"
   ]
  },
  {
   "cell_type": "markdown",
   "metadata": {},
   "source": [
    "### Insight\n",
    "- The breeds with the highest rating averages are Clumber, Soft coated wheaten terrier, and West highland white terrier.\n",
    "- The breeds with the lowest rating averages are Norwich terrier, Scotch terrier, and Japanese spaniel."
   ]
  },
  {
   "cell_type": "markdown",
   "metadata": {},
   "source": [
    "### Analysis of WeRateDogs monthly data"
   ]
  },
  {
   "cell_type": "code",
   "execution_count": 107,
   "metadata": {},
   "outputs": [
    {
     "data": {
      "image/png": "[encoded data removed]",
      "text/plain": [
       "<matplotlib.figure.Figure at 0x7f461e75ea20>"
      ]
     },
     "metadata": {
      "needs_background": "light"
     },
     "output_type": "display_data"
    }
   ],
   "source": [
    "month = df['tweet_id'].groupby(df[\"timestamp\"].dt.month).count()\n",
    "fig, ax = plt.subplots(figsize=(12, 10))\n",
    "ax = month.plot(kind='line', title='Distribution of Monthly trend of tweets')\n",
    "ax.set_xlabel(\"Month\")\n",
    "ax.set_ylabel(\"Frequency\");\n",
    "plt.savefig('Monthly trend of tweets')"
   ]
  },
  {
   "cell_type": "markdown",
   "metadata": {},
   "source": [
    "### Insight\n",
    "- The line plot above shows that the number of tweets in December is the highest while, August has the lowest number of tweets"
   ]
  }
 ],
 "metadata": {
  "kernelspec": {
   "display_name": "Python 3",
   "language": "python",
   "name": "python3"
  },
  "language_info": {
   "codemirror_mode": {
    "name": "ipython",
    "version": 3
   },
   "file_extension": ".py",
   "mimetype": "text/x-python",
   "name": "python",
   "nbconvert_exporter": "python",
   "pygments_lexer": "ipython3",
   "version": "3.6.7"
  }
 },
 "nbformat": 4,
 "nbformat_minor": 2
}
